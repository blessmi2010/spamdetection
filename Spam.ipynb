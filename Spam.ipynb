{
  "cells": [
    {
      "cell_type": "code",
      "execution_count": 1,
      "metadata": {
        "colab": {
          "base_uri": "https://localhost:8080/"
        },
        "id": "pIMt6pf3Qg4e",
        "outputId": "48aabcd1-61de-44d4-ad60-e307cdacb7c2"
      },
      "outputs": [
        {
          "output_type": "stream",
          "name": "stdout",
          "text": [
            "Archive:  /content/archive (9).zip\n",
            "  inflating: spam.csv                \n"
          ]
        }
      ],
      "source": [
        "!unzip '/content/archive (9).zip'"
      ]
    },
    {
      "cell_type": "markdown",
      "metadata": {
        "id": "Qfa65WqORzp7"
      },
      "source": [
        "Approach to NLP Problems (Discriminative)\n",
        "\n",
        "\n",
        "\n",
        "*  Load the data and libraries (NLTK, Gensim, Spacy)\n",
        "\n",
        "*  Data Preparation and Transformation\n",
        "\n",
        "                 *  Tokenization\n",
        "                 *   Remove special characters\n",
        "                 *   Lemmatization/Stemming\n",
        "                 *  Remove stop words\n",
        "                *  Lower Case\n",
        "\n",
        "\n",
        "*  Vectorization (Gensim, SkLearn, Keras)\n",
        "\n",
        "*  Count Vectorizer\n",
        "* TF IDF Vectorizer\n",
        "\n",
        "* Word2Vec\n",
        "\n",
        "\n",
        "*   Embedding (Keras)\n",
        "\n",
        "\n",
        "\n",
        "\n",
        "*   Build a model\n",
        "*   ML Model: Boosting/Bagging,Naive bayes\n",
        "\n",
        "*   Deep Learning Model: Dense, RNN, LSTM\n",
        "*   Evaluate\n",
        "\n",
        "\n",
        "*  Predict\n",
        "\n",
        "\n",
        "\n",
        "\n",
        "\n",
        "\n",
        "\n",
        "\n",
        "\n",
        "\n",
        "\n",
        "\n"
      ]
    },
    {
      "cell_type": "code",
      "execution_count": 2,
      "metadata": {
        "id": "VIZGX1LGSi31"
      },
      "outputs": [],
      "source": [
        "import pandas as pd\n",
        "import numpy as np\n",
        "import matplotlib.pyplot as plt\n",
        "from nltk.tokenize import word_tokenize\n",
        "import re\n",
        "import nltk\n",
        "from nltk.corpus import stopwords\n",
        "from nltk.stem import WordNetLemmatizer\n",
        "from sklearn.feature_extraction.text import CountVectorizer,TfidfVectorizer\n",
        "from sklearn.model_selection import train_test_split\n",
        "from sklearn.naive_bayes import MultinomialNB\n",
        "from sklearn.metrics import accuracy_score, classification_report, confusion_matrix"
      ]
    },
    {
      "cell_type": "markdown",
      "metadata": {
        "id": "QOrMPrYNTm8n"
      },
      "source": [
        "import the data"
      ]
    },
    {
      "cell_type": "code",
      "execution_count": 3,
      "metadata": {
        "id": "CD-HzX4zToo7"
      },
      "outputs": [],
      "source": [
        "data=pd.read_csv('/content/spam.csv',encoding='latin-1')"
      ]
    },
    {
      "cell_type": "code",
      "execution_count": 4,
      "metadata": {
        "colab": {
          "base_uri": "https://localhost:8080/",
          "height": 206
        },
        "id": "v5Hx1F93U2Ot",
        "outputId": "74dfbf11-893b-433c-aac8-a3463c8f9dc4"
      },
      "outputs": [
        {
          "output_type": "execute_result",
          "data": {
            "text/plain": [
              "     v1                                                 v2 Unnamed: 2  \\\n",
              "0   ham  Go until jurong point, crazy.. Available only ...        NaN   \n",
              "1   ham                      Ok lar... Joking wif u oni...        NaN   \n",
              "2  spam  Free entry in 2 a wkly comp to win FA Cup fina...        NaN   \n",
              "3   ham  U dun say so early hor... U c already then say...        NaN   \n",
              "4   ham  Nah I don't think he goes to usf, he lives aro...        NaN   \n",
              "\n",
              "  Unnamed: 3 Unnamed: 4  \n",
              "0        NaN        NaN  \n",
              "1        NaN        NaN  \n",
              "2        NaN        NaN  \n",
              "3        NaN        NaN  \n",
              "4        NaN        NaN  "
            ],
            "text/html": [
              "\n",
              "  <div id=\"df-ed7ae264-92cb-4dbc-9b04-7885631b93b2\" class=\"colab-df-container\">\n",
              "    <div>\n",
              "<style scoped>\n",
              "    .dataframe tbody tr th:only-of-type {\n",
              "        vertical-align: middle;\n",
              "    }\n",
              "\n",
              "    .dataframe tbody tr th {\n",
              "        vertical-align: top;\n",
              "    }\n",
              "\n",
              "    .dataframe thead th {\n",
              "        text-align: right;\n",
              "    }\n",
              "</style>\n",
              "<table border=\"1\" class=\"dataframe\">\n",
              "  <thead>\n",
              "    <tr style=\"text-align: right;\">\n",
              "      <th></th>\n",
              "      <th>v1</th>\n",
              "      <th>v2</th>\n",
              "      <th>Unnamed: 2</th>\n",
              "      <th>Unnamed: 3</th>\n",
              "      <th>Unnamed: 4</th>\n",
              "    </tr>\n",
              "  </thead>\n",
              "  <tbody>\n",
              "    <tr>\n",
              "      <th>0</th>\n",
              "      <td>ham</td>\n",
              "      <td>Go until jurong point, crazy.. Available only ...</td>\n",
              "      <td>NaN</td>\n",
              "      <td>NaN</td>\n",
              "      <td>NaN</td>\n",
              "    </tr>\n",
              "    <tr>\n",
              "      <th>1</th>\n",
              "      <td>ham</td>\n",
              "      <td>Ok lar... Joking wif u oni...</td>\n",
              "      <td>NaN</td>\n",
              "      <td>NaN</td>\n",
              "      <td>NaN</td>\n",
              "    </tr>\n",
              "    <tr>\n",
              "      <th>2</th>\n",
              "      <td>spam</td>\n",
              "      <td>Free entry in 2 a wkly comp to win FA Cup fina...</td>\n",
              "      <td>NaN</td>\n",
              "      <td>NaN</td>\n",
              "      <td>NaN</td>\n",
              "    </tr>\n",
              "    <tr>\n",
              "      <th>3</th>\n",
              "      <td>ham</td>\n",
              "      <td>U dun say so early hor... U c already then say...</td>\n",
              "      <td>NaN</td>\n",
              "      <td>NaN</td>\n",
              "      <td>NaN</td>\n",
              "    </tr>\n",
              "    <tr>\n",
              "      <th>4</th>\n",
              "      <td>ham</td>\n",
              "      <td>Nah I don't think he goes to usf, he lives aro...</td>\n",
              "      <td>NaN</td>\n",
              "      <td>NaN</td>\n",
              "      <td>NaN</td>\n",
              "    </tr>\n",
              "  </tbody>\n",
              "</table>\n",
              "</div>\n",
              "    <div class=\"colab-df-buttons\">\n",
              "\n",
              "  <div class=\"colab-df-container\">\n",
              "    <button class=\"colab-df-convert\" onclick=\"convertToInteractive('df-ed7ae264-92cb-4dbc-9b04-7885631b93b2')\"\n",
              "            title=\"Convert this dataframe to an interactive table.\"\n",
              "            style=\"display:none;\">\n",
              "\n",
              "  <svg xmlns=\"http://www.w3.org/2000/svg\" height=\"24px\" viewBox=\"0 -960 960 960\">\n",
              "    <path d=\"M120-120v-720h720v720H120Zm60-500h600v-160H180v160Zm220 220h160v-160H400v160Zm0 220h160v-160H400v160ZM180-400h160v-160H180v160Zm440 0h160v-160H620v160ZM180-180h160v-160H180v160Zm440 0h160v-160H620v160Z\"/>\n",
              "  </svg>\n",
              "    </button>\n",
              "\n",
              "  <style>\n",
              "    .colab-df-container {\n",
              "      display:flex;\n",
              "      gap: 12px;\n",
              "    }\n",
              "\n",
              "    .colab-df-convert {\n",
              "      background-color: #E8F0FE;\n",
              "      border: none;\n",
              "      border-radius: 50%;\n",
              "      cursor: pointer;\n",
              "      display: none;\n",
              "      fill: #1967D2;\n",
              "      height: 32px;\n",
              "      padding: 0 0 0 0;\n",
              "      width: 32px;\n",
              "    }\n",
              "\n",
              "    .colab-df-convert:hover {\n",
              "      background-color: #E2EBFA;\n",
              "      box-shadow: 0px 1px 2px rgba(60, 64, 67, 0.3), 0px 1px 3px 1px rgba(60, 64, 67, 0.15);\n",
              "      fill: #174EA6;\n",
              "    }\n",
              "\n",
              "    .colab-df-buttons div {\n",
              "      margin-bottom: 4px;\n",
              "    }\n",
              "\n",
              "    [theme=dark] .colab-df-convert {\n",
              "      background-color: #3B4455;\n",
              "      fill: #D2E3FC;\n",
              "    }\n",
              "\n",
              "    [theme=dark] .colab-df-convert:hover {\n",
              "      background-color: #434B5C;\n",
              "      box-shadow: 0px 1px 3px 1px rgba(0, 0, 0, 0.15);\n",
              "      filter: drop-shadow(0px 1px 2px rgba(0, 0, 0, 0.3));\n",
              "      fill: #FFFFFF;\n",
              "    }\n",
              "  </style>\n",
              "\n",
              "    <script>\n",
              "      const buttonEl =\n",
              "        document.querySelector('#df-ed7ae264-92cb-4dbc-9b04-7885631b93b2 button.colab-df-convert');\n",
              "      buttonEl.style.display =\n",
              "        google.colab.kernel.accessAllowed ? 'block' : 'none';\n",
              "\n",
              "      async function convertToInteractive(key) {\n",
              "        const element = document.querySelector('#df-ed7ae264-92cb-4dbc-9b04-7885631b93b2');\n",
              "        const dataTable =\n",
              "          await google.colab.kernel.invokeFunction('convertToInteractive',\n",
              "                                                    [key], {});\n",
              "        if (!dataTable) return;\n",
              "\n",
              "        const docLinkHtml = 'Like what you see? Visit the ' +\n",
              "          '<a target=\"_blank\" href=https://colab.research.google.com/notebooks/data_table.ipynb>data table notebook</a>'\n",
              "          + ' to learn more about interactive tables.';\n",
              "        element.innerHTML = '';\n",
              "        dataTable['output_type'] = 'display_data';\n",
              "        await google.colab.output.renderOutput(dataTable, element);\n",
              "        const docLink = document.createElement('div');\n",
              "        docLink.innerHTML = docLinkHtml;\n",
              "        element.appendChild(docLink);\n",
              "      }\n",
              "    </script>\n",
              "  </div>\n",
              "\n",
              "\n",
              "<div id=\"df-99ea7eef-56cd-43de-bad5-1b9a09204505\">\n",
              "  <button class=\"colab-df-quickchart\" onclick=\"quickchart('df-99ea7eef-56cd-43de-bad5-1b9a09204505')\"\n",
              "            title=\"Suggest charts\"\n",
              "            style=\"display:none;\">\n",
              "\n",
              "<svg xmlns=\"http://www.w3.org/2000/svg\" height=\"24px\"viewBox=\"0 0 24 24\"\n",
              "     width=\"24px\">\n",
              "    <g>\n",
              "        <path d=\"M19 3H5c-1.1 0-2 .9-2 2v14c0 1.1.9 2 2 2h14c1.1 0 2-.9 2-2V5c0-1.1-.9-2-2-2zM9 17H7v-7h2v7zm4 0h-2V7h2v10zm4 0h-2v-4h2v4z\"/>\n",
              "    </g>\n",
              "</svg>\n",
              "  </button>\n",
              "\n",
              "<style>\n",
              "  .colab-df-quickchart {\n",
              "      --bg-color: #E8F0FE;\n",
              "      --fill-color: #1967D2;\n",
              "      --hover-bg-color: #E2EBFA;\n",
              "      --hover-fill-color: #174EA6;\n",
              "      --disabled-fill-color: #AAA;\n",
              "      --disabled-bg-color: #DDD;\n",
              "  }\n",
              "\n",
              "  [theme=dark] .colab-df-quickchart {\n",
              "      --bg-color: #3B4455;\n",
              "      --fill-color: #D2E3FC;\n",
              "      --hover-bg-color: #434B5C;\n",
              "      --hover-fill-color: #FFFFFF;\n",
              "      --disabled-bg-color: #3B4455;\n",
              "      --disabled-fill-color: #666;\n",
              "  }\n",
              "\n",
              "  .colab-df-quickchart {\n",
              "    background-color: var(--bg-color);\n",
              "    border: none;\n",
              "    border-radius: 50%;\n",
              "    cursor: pointer;\n",
              "    display: none;\n",
              "    fill: var(--fill-color);\n",
              "    height: 32px;\n",
              "    padding: 0;\n",
              "    width: 32px;\n",
              "  }\n",
              "\n",
              "  .colab-df-quickchart:hover {\n",
              "    background-color: var(--hover-bg-color);\n",
              "    box-shadow: 0 1px 2px rgba(60, 64, 67, 0.3), 0 1px 3px 1px rgba(60, 64, 67, 0.15);\n",
              "    fill: var(--button-hover-fill-color);\n",
              "  }\n",
              "\n",
              "  .colab-df-quickchart-complete:disabled,\n",
              "  .colab-df-quickchart-complete:disabled:hover {\n",
              "    background-color: var(--disabled-bg-color);\n",
              "    fill: var(--disabled-fill-color);\n",
              "    box-shadow: none;\n",
              "  }\n",
              "\n",
              "  .colab-df-spinner {\n",
              "    border: 2px solid var(--fill-color);\n",
              "    border-color: transparent;\n",
              "    border-bottom-color: var(--fill-color);\n",
              "    animation:\n",
              "      spin 1s steps(1) infinite;\n",
              "  }\n",
              "\n",
              "  @keyframes spin {\n",
              "    0% {\n",
              "      border-color: transparent;\n",
              "      border-bottom-color: var(--fill-color);\n",
              "      border-left-color: var(--fill-color);\n",
              "    }\n",
              "    20% {\n",
              "      border-color: transparent;\n",
              "      border-left-color: var(--fill-color);\n",
              "      border-top-color: var(--fill-color);\n",
              "    }\n",
              "    30% {\n",
              "      border-color: transparent;\n",
              "      border-left-color: var(--fill-color);\n",
              "      border-top-color: var(--fill-color);\n",
              "      border-right-color: var(--fill-color);\n",
              "    }\n",
              "    40% {\n",
              "      border-color: transparent;\n",
              "      border-right-color: var(--fill-color);\n",
              "      border-top-color: var(--fill-color);\n",
              "    }\n",
              "    60% {\n",
              "      border-color: transparent;\n",
              "      border-right-color: var(--fill-color);\n",
              "    }\n",
              "    80% {\n",
              "      border-color: transparent;\n",
              "      border-right-color: var(--fill-color);\n",
              "      border-bottom-color: var(--fill-color);\n",
              "    }\n",
              "    90% {\n",
              "      border-color: transparent;\n",
              "      border-bottom-color: var(--fill-color);\n",
              "    }\n",
              "  }\n",
              "</style>\n",
              "\n",
              "  <script>\n",
              "    async function quickchart(key) {\n",
              "      const quickchartButtonEl =\n",
              "        document.querySelector('#' + key + ' button');\n",
              "      quickchartButtonEl.disabled = true;  // To prevent multiple clicks.\n",
              "      quickchartButtonEl.classList.add('colab-df-spinner');\n",
              "      try {\n",
              "        const charts = await google.colab.kernel.invokeFunction(\n",
              "            'suggestCharts', [key], {});\n",
              "      } catch (error) {\n",
              "        console.error('Error during call to suggestCharts:', error);\n",
              "      }\n",
              "      quickchartButtonEl.classList.remove('colab-df-spinner');\n",
              "      quickchartButtonEl.classList.add('colab-df-quickchart-complete');\n",
              "    }\n",
              "    (() => {\n",
              "      let quickchartButtonEl =\n",
              "        document.querySelector('#df-99ea7eef-56cd-43de-bad5-1b9a09204505 button');\n",
              "      quickchartButtonEl.style.display =\n",
              "        google.colab.kernel.accessAllowed ? 'block' : 'none';\n",
              "    })();\n",
              "  </script>\n",
              "</div>\n",
              "\n",
              "    </div>\n",
              "  </div>\n"
            ],
            "application/vnd.google.colaboratory.intrinsic+json": {
              "type": "dataframe",
              "variable_name": "data",
              "summary": "{\n  \"name\": \"data\",\n  \"rows\": 5572,\n  \"fields\": [\n    {\n      \"column\": \"v1\",\n      \"properties\": {\n        \"dtype\": \"category\",\n        \"num_unique_values\": 2,\n        \"samples\": [\n          \"spam\",\n          \"ham\"\n        ],\n        \"semantic_type\": \"\",\n        \"description\": \"\"\n      }\n    },\n    {\n      \"column\": \"v2\",\n      \"properties\": {\n        \"dtype\": \"string\",\n        \"num_unique_values\": 5169,\n        \"samples\": [\n          \"Did u download the fring app?\",\n          \"Pass dis to all ur contacts n see wat u get! Red;i'm in luv wid u. Blue;u put a smile on my face. Purple;u r realy hot. Pink;u r so swt. Orange;i thnk i lyk u. Green;i realy wana go out wid u. Yelow;i wnt u bck. Black;i'm jealous of u. Brown;i miss you Nw plz giv me one color\"\n        ],\n        \"semantic_type\": \"\",\n        \"description\": \"\"\n      }\n    },\n    {\n      \"column\": \"Unnamed: 2\",\n      \"properties\": {\n        \"dtype\": \"category\",\n        \"num_unique_values\": 43,\n        \"samples\": [\n          \" GOD said\",\n          \" SHE SHUDVETOLD U. DID URGRAN KNOW?NEWAY\"\n        ],\n        \"semantic_type\": \"\",\n        \"description\": \"\"\n      }\n    },\n    {\n      \"column\": \"Unnamed: 3\",\n      \"properties\": {\n        \"dtype\": \"category\",\n        \"num_unique_values\": 10,\n        \"samples\": [\n          \" \\\\\\\"OH No! COMPETITION\\\\\\\". Who knew\",\n          \" why to miss them\"\n        ],\n        \"semantic_type\": \"\",\n        \"description\": \"\"\n      }\n    },\n    {\n      \"column\": \"Unnamed: 4\",\n      \"properties\": {\n        \"dtype\": \"category\",\n        \"num_unique_values\": 5,\n        \"samples\": [\n          \"GNT:-)\\\"\",\n          \" one day these two will become FREINDS FOREVER!\\\"\"\n        ],\n        \"semantic_type\": \"\",\n        \"description\": \"\"\n      }\n    }\n  ]\n}"
            }
          },
          "metadata": {},
          "execution_count": 4
        }
      ],
      "source": [
        "data.head()"
      ]
    },
    {
      "cell_type": "code",
      "execution_count": 5,
      "metadata": {
        "colab": {
          "base_uri": "https://localhost:8080/"
        },
        "id": "IyPIZZgWVMKP",
        "outputId": "3312c1d9-1b38-4088-b70a-bb54b40221fa"
      },
      "outputs": [
        {
          "output_type": "stream",
          "name": "stdout",
          "text": [
            "<class 'pandas.core.frame.DataFrame'>\n",
            "RangeIndex: 5572 entries, 0 to 5571\n",
            "Data columns (total 5 columns):\n",
            " #   Column      Non-Null Count  Dtype \n",
            "---  ------      --------------  ----- \n",
            " 0   v1          5572 non-null   object\n",
            " 1   v2          5572 non-null   object\n",
            " 2   Unnamed: 2  50 non-null     object\n",
            " 3   Unnamed: 3  12 non-null     object\n",
            " 4   Unnamed: 4  6 non-null      object\n",
            "dtypes: object(5)\n",
            "memory usage: 217.8+ KB\n"
          ]
        }
      ],
      "source": [
        "data.info()"
      ]
    },
    {
      "cell_type": "markdown",
      "metadata": {
        "id": "R2SJOlEpVolD"
      },
      "source": [
        "drop off the inconsistent columns"
      ]
    },
    {
      "cell_type": "code",
      "execution_count": 6,
      "metadata": {
        "id": "cqTIGM-NVYeV"
      },
      "outputs": [],
      "source": [
        "data.drop(['Unnamed: 2','Unnamed: 3','Unnamed: 4'],axis=1,inplace=True)"
      ]
    },
    {
      "cell_type": "code",
      "execution_count": 7,
      "metadata": {
        "colab": {
          "base_uri": "https://localhost:8080/"
        },
        "id": "8QVOptkNVtPw",
        "outputId": "4e472c8c-8a1d-4996-800d-8c073e0057ae"
      },
      "outputs": [
        {
          "output_type": "stream",
          "name": "stdout",
          "text": [
            "<class 'pandas.core.frame.DataFrame'>\n",
            "RangeIndex: 5572 entries, 0 to 5571\n",
            "Data columns (total 2 columns):\n",
            " #   Column  Non-Null Count  Dtype \n",
            "---  ------  --------------  ----- \n",
            " 0   v1      5572 non-null   object\n",
            " 1   v2      5572 non-null   object\n",
            "dtypes: object(2)\n",
            "memory usage: 87.2+ KB\n"
          ]
        }
      ],
      "source": [
        "data.info()"
      ]
    },
    {
      "cell_type": "code",
      "execution_count": 8,
      "metadata": {
        "colab": {
          "base_uri": "https://localhost:8080/"
        },
        "id": "3Welr8C6V1W1",
        "outputId": "c9ea66c2-e0ab-421d-e8ea-935f0333b659"
      },
      "outputs": [
        {
          "output_type": "stream",
          "name": "stdout",
          "text": [
            "<class 'pandas.core.frame.DataFrame'>\n",
            "RangeIndex: 5572 entries, 0 to 5571\n",
            "Data columns (total 2 columns):\n",
            " #   Column  Non-Null Count  Dtype \n",
            "---  ------  --------------  ----- \n",
            " 0   v1      5572 non-null   object\n",
            " 1   v2      5572 non-null   object\n",
            "dtypes: object(2)\n",
            "memory usage: 87.2+ KB\n"
          ]
        }
      ],
      "source": [
        "data.info()"
      ]
    },
    {
      "cell_type": "markdown",
      "metadata": {
        "id": "bg85WpggZ3es"
      },
      "source": [
        "re=regular expression"
      ]
    },
    {
      "cell_type": "code",
      "execution_count": 9,
      "metadata": {
        "id": "fv8fVfrbdY6V"
      },
      "outputs": [],
      "source": [
        "data.columns = ['label','text']"
      ]
    },
    {
      "cell_type": "code",
      "execution_count": 10,
      "metadata": {
        "colab": {
          "base_uri": "https://localhost:8080/",
          "height": 491
        },
        "id": "TM_w9ndZWmWD",
        "outputId": "dbd6e58b-8e33-402f-ee3c-37c393ef1109"
      },
      "outputs": [
        {
          "output_type": "execute_result",
          "data": {
            "text/plain": [
              "<Axes: xlabel='label'>"
            ]
          },
          "metadata": {},
          "execution_count": 10
        },
        {
          "output_type": "display_data",
          "data": {
            "text/plain": [
              "<Figure size 640x480 with 1 Axes>"
            ],
            "image/png": "[encoded data removed]"
          },
          "metadata": {}
        }
      ],
      "source": [
        "data['label'].value_counts().plot(kind='bar')"
      ]
    },
    {
      "cell_type": "code",
      "execution_count": 11,
      "metadata": {
        "colab": {
          "base_uri": "https://localhost:8080/"
        },
        "id": "vdujwpBsbUnS",
        "outputId": "b886dd08-2349-45a1-c1d7-56722fee904e"
      },
      "outputs": [
        {
          "output_type": "stream",
          "name": "stderr",
          "text": [
            "[nltk_data] Downloading package punkt to /root/nltk_data...\n",
            "[nltk_data]   Unzipping tokenizers/punkt.zip.\n",
            "[nltk_data] Downloading package stopwords to /root/nltk_data...\n",
            "[nltk_data]   Unzipping corpora/stopwords.zip.\n",
            "[nltk_data] Downloading package wordnet to /root/nltk_data...\n"
          ]
        },
        {
          "output_type": "execute_result",
          "data": {
            "text/plain": [
              "True"
            ]
          },
          "metadata": {},
          "execution_count": 11
        }
      ],
      "source": [
        "nltk.download('punkt')\n",
        "nltk.download('stopwords')\n",
        "nltk.download('wordnet')"
      ]
    },
    {
      "cell_type": "code",
      "execution_count": 12,
      "metadata": {
        "id": "i1DMOAtDdmFH"
      },
      "outputs": [],
      "source": [
        "def data_prep(text):\n",
        "  text=re.sub('[^a-zA-Z]',' ',text)\n",
        "  text=text.lower()\n",
        "  text = word_tokenize(text)\n",
        "  lemmatizer = nltk.WordNetLemmatizer() # Create an instance of WordNetLemmatizer\n",
        "  text = [lemmatizer.lemmatize(word) for word in text] # Lemmatize each word using the instance\n",
        "  text = [word for word in text if word not in stopwords.words('english')]\n",
        "  text = ' '.join(text)\n",
        "  return text"
      ]
    },
    {
      "cell_type": "code",
      "execution_count": 13,
      "metadata": {
        "colab": {
          "base_uri": "https://localhost:8080/"
        },
        "id": "Wm5oWw-papB8",
        "outputId": "e66033ff-5048-4bae-b59b-b616c7cc4ec5"
      },
      "outputs": [
        {
          "output_type": "stream",
          "name": "stdout",
          "text": [
            "['i', 'me', 'my', 'myself', 'we', 'our', 'ours', 'ourselves', 'you', \"you're\", \"you've\", \"you'll\", \"you'd\", 'your', 'yours', 'yourself', 'yourselves', 'he', 'him', 'his', 'himself', 'she', \"she's\", 'her', 'hers', 'herself', 'it', \"it's\", 'its', 'itself', 'they', 'them', 'their', 'theirs', 'themselves', 'what', 'which', 'who', 'whom', 'this', 'that', \"that'll\", 'these', 'those', 'am', 'is', 'are', 'was', 'were', 'be', 'been', 'being', 'have', 'has', 'had', 'having', 'do', 'does', 'did', 'doing', 'a', 'an', 'the', 'and', 'but', 'if', 'or', 'because', 'as', 'until', 'while', 'of', 'at', 'by', 'for', 'with', 'about', 'against', 'between', 'into', 'through', 'during', 'before', 'after', 'above', 'below', 'to', 'from', 'up', 'down', 'in', 'out', 'on', 'off', 'over', 'under', 'again', 'further', 'then', 'once', 'here', 'there', 'when', 'where', 'why', 'how', 'all', 'any', 'both', 'each', 'few', 'more', 'most', 'other', 'some', 'such', 'no', 'nor', 'not', 'only', 'own', 'same', 'so', 'than', 'too', 'very', 's', 't', 'can', 'will', 'just', 'don', \"don't\", 'should', \"should've\", 'now', 'd', 'll', 'm', 'o', 're', 've', 'y', 'ain', 'aren', \"aren't\", 'couldn', \"couldn't\", 'didn', \"didn't\", 'doesn', \"doesn't\", 'hadn', \"hadn't\", 'hasn', \"hasn't\", 'haven', \"haven't\", 'isn', \"isn't\", 'ma', 'mightn', \"mightn't\", 'mustn', \"mustn't\", 'needn', \"needn't\", 'shan', \"shan't\", 'shouldn', \"shouldn't\", 'wasn', \"wasn't\", 'weren', \"weren't\", 'won', \"won't\", 'wouldn', \"wouldn't\"]\n"
          ]
        }
      ],
      "source": [
        "import nltk\n",
        "from nltk.corpus import stopwords\n",
        "\n",
        "print(stopwords.words('english'))"
      ]
    },
    {
      "cell_type": "markdown",
      "metadata": {
        "id": "ZbuwPraraIgL"
      },
      "source": [
        "replace all special characters and retain special characters and replace with space"
      ]
    },
    {
      "cell_type": "code",
      "execution_count": 14,
      "metadata": {
        "id": "Xn2PUG2Dcx7Q"
      },
      "outputs": [],
      "source": [
        "data_1 = data['text'].apply(data_prep)"
      ]
    },
    {
      "cell_type": "code",
      "execution_count": 15,
      "metadata": {
        "colab": {
          "base_uri": "https://localhost:8080/",
          "height": 36
        },
        "id": "UjiqdC4Ucxac",
        "outputId": "a007ab9d-b5a1-45fd-aa57-c25cabbea76f"
      },
      "outputs": [
        {
          "output_type": "execute_result",
          "data": {
            "text/plain": [
              "'go jurong point crazy available bugis n great world la e buffet cine got amore wat'"
            ],
            "application/vnd.google.colaboratory.intrinsic+json": {
              "type": "string"
            }
          },
          "metadata": {},
          "execution_count": 15
        }
      ],
      "source": [
        "data_1[0]"
      ]
    },
    {
      "cell_type": "markdown",
      "metadata": {
        "id": "LgdR_0DfezqK"
      },
      "source": [
        "using  tfidf pre process the data"
      ]
    },
    {
      "cell_type": "code",
      "execution_count": 16,
      "metadata": {
        "id": "QpoSXnU8e5Ad"
      },
      "outputs": [],
      "source": [
        "vect=TfidfVectorizer()\n",
        "x=vect.fit_transform(data['text'])"
      ]
    },
    {
      "cell_type": "code",
      "execution_count": 17,
      "metadata": {
        "id": "-fixKIEbfG5V"
      },
      "outputs": [],
      "source": [
        "y=data['label']"
      ]
    },
    {
      "cell_type": "code",
      "execution_count": 18,
      "metadata": {
        "colab": {
          "base_uri": "https://localhost:8080/"
        },
        "id": "wv5LLpwHfLX-",
        "outputId": "f0142f89-83af-4b2d-ff8a-6b314e29dda7"
      },
      "outputs": [
        {
          "output_type": "execute_result",
          "data": {
            "text/plain": [
              "(5572, 8672)"
            ]
          },
          "metadata": {},
          "execution_count": 18
        }
      ],
      "source": [
        "x.shape"
      ]
    },
    {
      "cell_type": "markdown",
      "metadata": {
        "id": "qEmRsHcQgUtd"
      },
      "source": [
        "Machine learning models"
      ]
    },
    {
      "cell_type": "code",
      "execution_count": 19,
      "metadata": {
        "id": "c27i0Betf95g"
      },
      "outputs": [],
      "source": [
        "x_train,x_test,y_train,y_test=train_test_split(x,y,test_size=0.2,random_state=42)"
      ]
    },
    {
      "cell_type": "code",
      "execution_count": 20,
      "metadata": {
        "colab": {
          "base_uri": "https://localhost:8080/"
        },
        "id": "F9f1AMTjgL7-",
        "outputId": "5d5c14a2-4a36-4dcb-9f54-1795a9de8bd7"
      },
      "outputs": [
        {
          "output_type": "stream",
          "name": "stdout",
          "text": [
            "(4457, 8672)\n",
            "(1115, 8672)\n",
            "(4457,)\n",
            "(1115,)\n"
          ]
        }
      ],
      "source": [
        "print(x_train.shape)\n",
        "print(x_test.shape)\n",
        "print(y_train.shape)\n",
        "print(y_test.shape)"
      ]
    },
    {
      "cell_type": "code",
      "execution_count": 21,
      "metadata": {
        "id": "RNQymcyjguaJ"
      },
      "outputs": [],
      "source": [
        "from sklearn.ensemble import RandomForestClassifier"
      ]
    },
    {
      "cell_type": "markdown",
      "source": [],
      "metadata": {
        "id": "DsrYjlI0vMSV"
      }
    },
    {
      "cell_type": "code",
      "execution_count": 22,
      "metadata": {
        "id": "t-mjAmDuhTDE"
      },
      "outputs": [],
      "source": [
        "def model_eval(actual,predicted):\n",
        "  conf_matrix=confusion_matrix(actual,predicted)\n",
        "  clas_rep=classification_report(actual,predicted)\n",
        "  acc_score=accuracy_score(actual,predicted)\n",
        "  print(\"The accuracy of the model is:\",round(acc_score,2))\n",
        "  print(conf_matrix)\n",
        "  print(clas_rep)"
      ]
    },
    {
      "cell_type": "code",
      "execution_count": 23,
      "metadata": {
        "colab": {
          "base_uri": "https://localhost:8080/",
          "height": 74
        },
        "id": "xq2C5qtYgzdN",
        "outputId": "3d6df345-4d54-415c-c402-2553cbf71a97"
      },
      "outputs": [
        {
          "output_type": "execute_result",
          "data": {
            "text/plain": [
              "RandomForestClassifier()"
            ],
            "text/html": [
              "<style>#sk-container-id-1 {color: black;}#sk-container-id-1 pre{padding: 0;}#sk-container-id-1 div.sk-toggleable {background-color: white;}#sk-container-id-1 label.sk-toggleable__label {cursor: pointer;display: block;width: 100%;margin-bottom: 0;padding: 0.3em;box-sizing: border-box;text-align: center;}#sk-container-id-1 label.sk-toggleable__label-arrow:before {content: \"▸\";float: left;margin-right: 0.25em;color: #696969;}#sk-container-id-1 label.sk-toggleable__label-arrow:hover:before {color: black;}#sk-container-id-1 div.sk-estimator:hover label.sk-toggleable__label-arrow:before {color: black;}#sk-container-id-1 div.sk-toggleable__content {max-height: 0;max-width: 0;overflow: hidden;text-align: left;background-color: #f0f8ff;}#sk-container-id-1 div.sk-toggleable__content pre {margin: 0.2em;color: black;border-radius: 0.25em;background-color: #f0f8ff;}#sk-container-id-1 input.sk-toggleable__control:checked~div.sk-toggleable__content {max-height: 200px;max-width: 100%;overflow: auto;}#sk-container-id-1 input.sk-toggleable__control:checked~label.sk-toggleable__label-arrow:before {content: \"▾\";}#sk-container-id-1 div.sk-estimator input.sk-toggleable__control:checked~label.sk-toggleable__label {background-color: #d4ebff;}#sk-container-id-1 div.sk-label input.sk-toggleable__control:checked~label.sk-toggleable__label {background-color: #d4ebff;}#sk-container-id-1 input.sk-hidden--visually {border: 0;clip: rect(1px 1px 1px 1px);clip: rect(1px, 1px, 1px, 1px);height: 1px;margin: -1px;overflow: hidden;padding: 0;position: absolute;width: 1px;}#sk-container-id-1 div.sk-estimator {font-family: monospace;background-color: #f0f8ff;border: 1px dotted black;border-radius: 0.25em;box-sizing: border-box;margin-bottom: 0.5em;}#sk-container-id-1 div.sk-estimator:hover {background-color: #d4ebff;}#sk-container-id-1 div.sk-parallel-item::after {content: \"\";width: 100%;border-bottom: 1px solid gray;flex-grow: 1;}#sk-container-id-1 div.sk-label:hover label.sk-toggleable__label {background-color: #d4ebff;}#sk-container-id-1 div.sk-serial::before {content: \"\";position: absolute;border-left: 1px solid gray;box-sizing: border-box;top: 0;bottom: 0;left: 50%;z-index: 0;}#sk-container-id-1 div.sk-serial {display: flex;flex-direction: column;align-items: center;background-color: white;padding-right: 0.2em;padding-left: 0.2em;position: relative;}#sk-container-id-1 div.sk-item {position: relative;z-index: 1;}#sk-container-id-1 div.sk-parallel {display: flex;align-items: stretch;justify-content: center;background-color: white;position: relative;}#sk-container-id-1 div.sk-item::before, #sk-container-id-1 div.sk-parallel-item::before {content: \"\";position: absolute;border-left: 1px solid gray;box-sizing: border-box;top: 0;bottom: 0;left: 50%;z-index: -1;}#sk-container-id-1 div.sk-parallel-item {display: flex;flex-direction: column;z-index: 1;position: relative;background-color: white;}#sk-container-id-1 div.sk-parallel-item:first-child::after {align-self: flex-end;width: 50%;}#sk-container-id-1 div.sk-parallel-item:last-child::after {align-self: flex-start;width: 50%;}#sk-container-id-1 div.sk-parallel-item:only-child::after {width: 0;}#sk-container-id-1 div.sk-dashed-wrapped {border: 1px dashed gray;margin: 0 0.4em 0.5em 0.4em;box-sizing: border-box;padding-bottom: 0.4em;background-color: white;}#sk-container-id-1 div.sk-label label {font-family: monospace;font-weight: bold;display: inline-block;line-height: 1.2em;}#sk-container-id-1 div.sk-label-container {text-align: center;}#sk-container-id-1 div.sk-container {/* jupyter's `normalize.less` sets `[hidden] { display: none; }` but bootstrap.min.css set `[hidden] { display: none !important; }` so we also need the `!important` here to be able to override the default hidden behavior on the sphinx rendered scikit-learn.org. See: https://github.com/scikit-learn/scikit-learn/issues/21755 */display: inline-block !important;position: relative;}#sk-container-id-1 div.sk-text-repr-fallback {display: none;}</style><div id=\"sk-container-id-1\" class=\"sk-top-container\"><div class=\"sk-text-repr-fallback\"><pre>RandomForestClassifier()</pre><b>In a Jupyter environment, please rerun this cell to show the HTML representation or trust the notebook. <br />On GitHub, the HTML representation is unable to render, please try loading this page with nbviewer.org.</b></div><div class=\"sk-container\" hidden><div class=\"sk-item\"><div class=\"sk-estimator sk-toggleable\"><input class=\"sk-toggleable__control sk-hidden--visually\" id=\"sk-estimator-id-1\" type=\"checkbox\" checked><label for=\"sk-estimator-id-1\" class=\"sk-toggleable__label sk-toggleable__label-arrow\">RandomForestClassifier</label><div class=\"sk-toggleable__content\"><pre>RandomForestClassifier()</pre></div></div></div></div></div>"
            ]
          },
          "metadata": {},
          "execution_count": 23
        }
      ],
      "source": [
        "rf=RandomForestClassifier()\n",
        "rf.fit(x_train,y_train)\n"
      ]
    },
    {
      "cell_type": "code",
      "execution_count": 24,
      "metadata": {
        "id": "5L67LdIThBmw"
      },
      "outputs": [],
      "source": [
        "y_hat_train_rf=rf.predict(x_train)\n",
        "y_hat_test_rf=rf.predict(x_test)"
      ]
    },
    {
      "cell_type": "code",
      "execution_count": 25,
      "metadata": {
        "colab": {
          "base_uri": "https://localhost:8080/"
        },
        "id": "79xtcseYhFV5",
        "outputId": "07a4cfa8-ec25-4606-a501-5e2c17c77b30"
      },
      "outputs": [
        {
          "output_type": "stream",
          "name": "stdout",
          "text": [
            "The accuracy of the model is: 1.0\n",
            "[[3860    0]\n",
            " [   0  597]]\n",
            "              precision    recall  f1-score   support\n",
            "\n",
            "         ham       1.00      1.00      1.00      3860\n",
            "        spam       1.00      1.00      1.00       597\n",
            "\n",
            "    accuracy                           1.00      4457\n",
            "   macro avg       1.00      1.00      1.00      4457\n",
            "weighted avg       1.00      1.00      1.00      4457\n",
            "\n"
          ]
        }
      ],
      "source": [
        "model_eval(y_train,y_hat_train_rf)"
      ]
    },
    {
      "cell_type": "code",
      "execution_count": 26,
      "metadata": {
        "colab": {
          "base_uri": "https://localhost:8080/"
        },
        "id": "UBy7YSWChGQE",
        "outputId": "345cf759-2da0-4e97-9544-1350790815ee"
      },
      "outputs": [
        {
          "output_type": "stream",
          "name": "stdout",
          "text": [
            "The accuracy of the model is: 0.98\n",
            "[[965   0]\n",
            " [ 26 124]]\n",
            "              precision    recall  f1-score   support\n",
            "\n",
            "         ham       0.97      1.00      0.99       965\n",
            "        spam       1.00      0.83      0.91       150\n",
            "\n",
            "    accuracy                           0.98      1115\n",
            "   macro avg       0.99      0.91      0.95      1115\n",
            "weighted avg       0.98      0.98      0.98      1115\n",
            "\n"
          ]
        }
      ],
      "source": [
        "model_eval(y_test,y_hat_test_rf)"
      ]
    },
    {
      "cell_type": "markdown",
      "metadata": {
        "id": "5TXtFG2vhnuq"
      },
      "source": [
        "Ada boost classifier"
      ]
    },
    {
      "cell_type": "code",
      "execution_count": 27,
      "metadata": {
        "id": "2PauihHuiLsb"
      },
      "outputs": [],
      "source": [
        "from sklearn.ensemble import AdaBoostClassifier,GradientBoostingClassifier"
      ]
    },
    {
      "cell_type": "code",
      "execution_count": 28,
      "metadata": {
        "id": "GSDEVdBdiUsU"
      },
      "outputs": [],
      "source": [
        "ada=AdaBoostClassifier()\n",
        "ada.fit(x_train,y_train)\n",
        "y_train_ada=ada.predict(x_train)\n",
        "y_hat_test_ada=ada.predict(x_test)"
      ]
    },
    {
      "cell_type": "code",
      "execution_count": 29,
      "metadata": {
        "colab": {
          "base_uri": "https://localhost:8080/"
        },
        "id": "Q_6gqQiJiXmm",
        "outputId": "3b70b3e7-34f4-40f0-ab76-00591964d0aa"
      },
      "outputs": [
        {
          "output_type": "stream",
          "name": "stdout",
          "text": [
            "The accuracy of the model is: 0.98\n",
            "[[3837   23]\n",
            " [  57  540]]\n",
            "              precision    recall  f1-score   support\n",
            "\n",
            "         ham       0.99      0.99      0.99      3860\n",
            "        spam       0.96      0.90      0.93       597\n",
            "\n",
            "    accuracy                           0.98      4457\n",
            "   macro avg       0.97      0.95      0.96      4457\n",
            "weighted avg       0.98      0.98      0.98      4457\n",
            "\n"
          ]
        }
      ],
      "source": [
        "model_eval(y_train,y_train_ada)"
      ]
    },
    {
      "cell_type": "code",
      "execution_count": 30,
      "metadata": {
        "colab": {
          "base_uri": "https://localhost:8080/"
        },
        "id": "E7_hbNwMiZcT",
        "outputId": "f7002975-1ef6-4564-b408-ff4f67152a6f"
      },
      "outputs": [
        {
          "output_type": "stream",
          "name": "stdout",
          "text": [
            "The accuracy of the model is: 0.97\n",
            "[[961   4]\n",
            " [ 27 123]]\n",
            "              precision    recall  f1-score   support\n",
            "\n",
            "         ham       0.97      1.00      0.98       965\n",
            "        spam       0.97      0.82      0.89       150\n",
            "\n",
            "    accuracy                           0.97      1115\n",
            "   macro avg       0.97      0.91      0.94      1115\n",
            "weighted avg       0.97      0.97      0.97      1115\n",
            "\n"
          ]
        }
      ],
      "source": [
        "model_eval(y_test,y_hat_test_ada)"
      ]
    },
    {
      "cell_type": "markdown",
      "metadata": {
        "id": "xEPWWhOli3CO"
      },
      "source": [
        "Gradient Boosting Classifier"
      ]
    },
    {
      "cell_type": "code",
      "execution_count": 31,
      "metadata": {
        "id": "1cAJFoaqi6h_"
      },
      "outputs": [],
      "source": [
        "gb=GradientBoostingClassifier(n_estimators=150)\n",
        "gb.fit(x_train,y_train)\n",
        "y_hat_train_gb=gb.predict(x_train)\n",
        "y_hat_test_gb=gb.predict(x_test)"
      ]
    },
    {
      "cell_type": "code",
      "execution_count": 32,
      "metadata": {
        "colab": {
          "base_uri": "https://localhost:8080/"
        },
        "id": "GrzXIB_KxLpG",
        "outputId": "3f18428f-96e3-42f2-9139-800e20c3b260"
      },
      "outputs": [
        {
          "output_type": "stream",
          "name": "stdout",
          "text": [
            "The accuracy of the model is: 0.99\n",
            "[[3856    4]\n",
            " [  37  560]]\n",
            "              precision    recall  f1-score   support\n",
            "\n",
            "         ham       0.99      1.00      0.99      3860\n",
            "        spam       0.99      0.94      0.96       597\n",
            "\n",
            "    accuracy                           0.99      4457\n",
            "   macro avg       0.99      0.97      0.98      4457\n",
            "weighted avg       0.99      0.99      0.99      4457\n",
            "\n"
          ]
        }
      ],
      "source": [
        "model_eval(y_train,y_hat_train_gb)"
      ]
    },
    {
      "cell_type": "code",
      "execution_count": 33,
      "metadata": {
        "colab": {
          "base_uri": "https://localhost:8080/"
        },
        "id": "XQSEFQMMxVSZ",
        "outputId": "0a310b6d-8f75-4372-f877-441c88c83209"
      },
      "outputs": [
        {
          "output_type": "stream",
          "name": "stdout",
          "text": [
            "The accuracy of the model is: 0.97\n",
            "[[963   2]\n",
            " [ 27 123]]\n",
            "              precision    recall  f1-score   support\n",
            "\n",
            "         ham       0.97      1.00      0.99       965\n",
            "        spam       0.98      0.82      0.89       150\n",
            "\n",
            "    accuracy                           0.97      1115\n",
            "   macro avg       0.98      0.91      0.94      1115\n",
            "weighted avg       0.97      0.97      0.97      1115\n",
            "\n"
          ]
        }
      ],
      "source": [
        "model_eval(y_test,y_hat_test_gb)"
      ]
    },
    {
      "cell_type": "markdown",
      "metadata": {
        "id": "Ku9QFUvkxabi"
      },
      "source": [
        "XGBoost classifier"
      ]
    },
    {
      "cell_type": "code",
      "execution_count": 34,
      "metadata": {
        "id": "7EI5OMMeyF9i"
      },
      "outputs": [],
      "source": [
        "from xgboost import XGBClassifier"
      ]
    },
    {
      "cell_type": "code",
      "execution_count": 35,
      "metadata": {
        "id": "pbnlVEiJyIL4"
      },
      "outputs": [],
      "source": [
        "xgb=XGBClassifier()"
      ]
    },
    {
      "cell_type": "code",
      "source": [
        "from sklearn.preprocessing import LabelEncoder\n",
        "\n",
        "le = LabelEncoder()\n",
        "y_train = le.fit_transform(y_train)  # Transform string labels to numerical labels\n",
        "\n",
        "xgb.fit(x_train,y_train)  # Now fit the model with numerical labels\n",
        "y_hat_train_xgb = xgb.predict(x_train)\n",
        "\n",
        "# Remember to transform y_test as well before making predictions\n",
        "y_test = le.transform(y_test)\n",
        "y_hat_test_xgb = xgb.predict(x_test)"
      ],
      "metadata": {
        "id": "WFcOUeX36crn"
      },
      "execution_count": 36,
      "outputs": []
    },
    {
      "cell_type": "code",
      "execution_count": 37,
      "metadata": {
        "colab": {
          "base_uri": "https://localhost:8080/"
        },
        "id": "JREJh25nyNFa",
        "outputId": "8573ba59-98e2-439e-db1d-d3c8ebb3577b"
      },
      "outputs": [
        {
          "output_type": "stream",
          "name": "stdout",
          "text": [
            "The accuracy of the model is: 1.0\n",
            "[[3859    1]\n",
            " [   7  590]]\n",
            "              precision    recall  f1-score   support\n",
            "\n",
            "           0       1.00      1.00      1.00      3860\n",
            "           1       1.00      0.99      0.99       597\n",
            "\n",
            "    accuracy                           1.00      4457\n",
            "   macro avg       1.00      0.99      1.00      4457\n",
            "weighted avg       1.00      1.00      1.00      4457\n",
            "\n"
          ]
        }
      ],
      "source": [
        "model_eval(y_train,y_hat_train_xgb)"
      ]
    },
    {
      "cell_type": "code",
      "execution_count": 38,
      "metadata": {
        "id": "oBdfTvwCyPX-",
        "colab": {
          "base_uri": "https://localhost:8080/"
        },
        "outputId": "88a76128-9f53-4b67-d243-15673d371a81"
      },
      "outputs": [
        {
          "output_type": "stream",
          "name": "stdout",
          "text": [
            "The accuracy of the model is: 0.98\n",
            "[[962   3]\n",
            " [ 17 133]]\n",
            "              precision    recall  f1-score   support\n",
            "\n",
            "           0       0.98      1.00      0.99       965\n",
            "           1       0.98      0.89      0.93       150\n",
            "\n",
            "    accuracy                           0.98      1115\n",
            "   macro avg       0.98      0.94      0.96      1115\n",
            "weighted avg       0.98      0.98      0.98      1115\n",
            "\n"
          ]
        }
      ],
      "source": [
        "model_eval(y_test,y_hat_test_xgb)"
      ]
    },
    {
      "cell_type": "markdown",
      "source": [
        "Naive Bayes"
      ],
      "metadata": {
        "id": "39Z1ZteH6stg"
      }
    },
    {
      "cell_type": "code",
      "source": [
        "from sklearn.naive_bayes import MultinomialNB"
      ],
      "metadata": {
        "id": "USlVXsyV6wER"
      },
      "execution_count": 39,
      "outputs": []
    },
    {
      "cell_type": "code",
      "source": [
        "ml=MultinomialNB()\n",
        "ml.fit(x_train,y_train)\n",
        "y_hat_train_ml=ml.predict(x_train)\n",
        "y_hat_test_ml=ml.predict(x_test)"
      ],
      "metadata": {
        "id": "T3PxEoYw65U0"
      },
      "execution_count": 40,
      "outputs": []
    },
    {
      "cell_type": "code",
      "source": [
        "model_eval(y_train,y_hat_train_ml)"
      ],
      "metadata": {
        "colab": {
          "base_uri": "https://localhost:8080/"
        },
        "id": "m47zcmUM7En3",
        "outputId": "eed667f1-d461-409c-81fe-0b78f6e930fa"
      },
      "execution_count": 41,
      "outputs": [
        {
          "output_type": "stream",
          "name": "stdout",
          "text": [
            "The accuracy of the model is: 0.97\n",
            "[[3860    0]\n",
            " [ 132  465]]\n",
            "              precision    recall  f1-score   support\n",
            "\n",
            "           0       0.97      1.00      0.98      3860\n",
            "           1       1.00      0.78      0.88       597\n",
            "\n",
            "    accuracy                           0.97      4457\n",
            "   macro avg       0.98      0.89      0.93      4457\n",
            "weighted avg       0.97      0.97      0.97      4457\n",
            "\n"
          ]
        }
      ]
    },
    {
      "cell_type": "code",
      "source": [
        "model_eval(y_test,y_hat_test_ml)"
      ],
      "metadata": {
        "colab": {
          "base_uri": "https://localhost:8080/"
        },
        "id": "yV4e4pug7H0_",
        "outputId": "771805ec-f14b-4227-9bd2-853f8364c328"
      },
      "execution_count": 42,
      "outputs": [
        {
          "output_type": "stream",
          "name": "stdout",
          "text": [
            "The accuracy of the model is: 0.96\n",
            "[[965   0]\n",
            " [ 42 108]]\n",
            "              precision    recall  f1-score   support\n",
            "\n",
            "           0       0.96      1.00      0.98       965\n",
            "           1       1.00      0.72      0.84       150\n",
            "\n",
            "    accuracy                           0.96      1115\n",
            "   macro avg       0.98      0.86      0.91      1115\n",
            "weighted avg       0.96      0.96      0.96      1115\n",
            "\n"
          ]
        }
      ]
    },
    {
      "cell_type": "markdown",
      "source": [
        "Create a app"
      ],
      "metadata": {
        "id": "hXrfqxvQED1P"
      }
    },
    {
      "cell_type": "code",
      "source": [
        "! pip install gradio"
      ],
      "metadata": {
        "colab": {
          "base_uri": "https://localhost:8080/"
        },
        "id": "T44wWcn_EFud",
        "outputId": "beaad50f-92bc-46e9-c2ca-afbadab70eb8"
      },
      "execution_count": 43,
      "outputs": [
        {
          "output_type": "stream",
          "name": "stdout",
          "text": [
            "Collecting gradio\n",
            "  Downloading gradio-4.43.0-py3-none-any.whl.metadata (15 kB)\n",
            "Collecting aiofiles<24.0,>=22.0 (from gradio)\n",
            "  Downloading aiofiles-23.2.1-py3-none-any.whl.metadata (9.7 kB)\n",
            "Requirement already satisfied: anyio<5.0,>=3.0 in /usr/local/lib/python3.10/dist-packages (from gradio) (3.7.1)\n",
            "Collecting fastapi<0.113.0 (from gradio)\n",
            "  Downloading fastapi-0.112.4-py3-none-any.whl.metadata (27 kB)\n",
            "Collecting ffmpy (from gradio)\n",
            "  Downloading ffmpy-0.4.0-py3-none-any.whl.metadata (2.9 kB)\n",
            "Collecting gradio-client==1.3.0 (from gradio)\n",
            "  Downloading gradio_client-1.3.0-py3-none-any.whl.metadata (7.1 kB)\n",
            "Collecting httpx>=0.24.1 (from gradio)\n",
            "  Downloading httpx-0.27.2-py3-none-any.whl.metadata (7.1 kB)\n",
            "Requirement already satisfied: huggingface-hub>=0.19.3 in /usr/local/lib/python3.10/dist-packages (from gradio) (0.24.6)\n",
            "Requirement already satisfied: importlib-resources<7.0,>=1.3 in /usr/local/lib/python3.10/dist-packages (from gradio) (6.4.4)\n",
            "Requirement already satisfied: jinja2<4.0 in /usr/local/lib/python3.10/dist-packages (from gradio) (3.1.4)\n",
            "Requirement already satisfied: markupsafe~=2.0 in /usr/local/lib/python3.10/dist-packages (from gradio) (2.1.5)\n",
            "Requirement already satisfied: matplotlib~=3.0 in /usr/local/lib/python3.10/dist-packages (from gradio) (3.7.1)\n",
            "Requirement already satisfied: numpy<3.0,>=1.0 in /usr/local/lib/python3.10/dist-packages (from gradio) (1.26.4)\n",
            "Collecting orjson~=3.0 (from gradio)\n",
            "  Downloading orjson-3.10.7-cp310-cp310-manylinux_2_17_x86_64.manylinux2014_x86_64.whl.metadata (50 kB)\n",
            "\u001b[2K     \u001b[90m━━━━━━━━━━━━━━━━━━━━━━━━━━━━━━━━━━━━━━━━\u001b[0m \u001b[32m50.4/50.4 kB\u001b[0m \u001b[31m2.1 MB/s\u001b[0m eta \u001b[36m0:00:00\u001b[0m\n",
            "\u001b[?25hRequirement already satisfied: packaging in /usr/local/lib/python3.10/dist-packages (from gradio) (24.1)\n",
            "Requirement already satisfied: pandas<3.0,>=1.0 in /usr/local/lib/python3.10/dist-packages (from gradio) (2.1.4)\n",
            "Requirement already satisfied: pillow<11.0,>=8.0 in /usr/local/lib/python3.10/dist-packages (from gradio) (9.4.0)\n",
            "Requirement already satisfied: pydantic>=2.0 in /usr/local/lib/python3.10/dist-packages (from gradio) (2.8.2)\n",
            "Collecting pydub (from gradio)\n",
            "  Downloading pydub-0.25.1-py2.py3-none-any.whl.metadata (1.4 kB)\n",
            "Collecting python-multipart>=0.0.9 (from gradio)\n",
            "  Downloading python_multipart-0.0.9-py3-none-any.whl.metadata (2.5 kB)\n",
            "Requirement already satisfied: pyyaml<7.0,>=5.0 in /usr/local/lib/python3.10/dist-packages (from gradio) (6.0.2)\n",
            "Collecting ruff>=0.2.2 (from gradio)\n",
            "  Downloading ruff-0.6.4-py3-none-manylinux_2_17_x86_64.manylinux2014_x86_64.whl.metadata (25 kB)\n",
            "Collecting semantic-version~=2.0 (from gradio)\n",
            "  Downloading semantic_version-2.10.0-py2.py3-none-any.whl.metadata (9.7 kB)\n",
            "Collecting tomlkit==0.12.0 (from gradio)\n",
            "  Downloading tomlkit-0.12.0-py3-none-any.whl.metadata (2.7 kB)\n",
            "Requirement already satisfied: typer<1.0,>=0.12 in /usr/local/lib/python3.10/dist-packages (from gradio) (0.12.5)\n",
            "Requirement already satisfied: typing-extensions~=4.0 in /usr/local/lib/python3.10/dist-packages (from gradio) (4.12.2)\n",
            "Requirement already satisfied: urllib3~=2.0 in /usr/local/lib/python3.10/dist-packages (from gradio) (2.0.7)\n",
            "Collecting uvicorn>=0.14.0 (from gradio)\n",
            "  Downloading uvicorn-0.30.6-py3-none-any.whl.metadata (6.6 kB)\n",
            "Requirement already satisfied: fsspec in /usr/local/lib/python3.10/dist-packages (from gradio-client==1.3.0->gradio) (2024.6.1)\n",
            "Collecting websockets<13.0,>=10.0 (from gradio-client==1.3.0->gradio)\n",
            "  Downloading websockets-12.0-cp310-cp310-manylinux_2_5_x86_64.manylinux1_x86_64.manylinux_2_17_x86_64.manylinux2014_x86_64.whl.metadata (6.6 kB)\n",
            "Requirement already satisfied: idna>=2.8 in /usr/local/lib/python3.10/dist-packages (from anyio<5.0,>=3.0->gradio) (3.8)\n",
            "Requirement already satisfied: sniffio>=1.1 in /usr/local/lib/python3.10/dist-packages (from anyio<5.0,>=3.0->gradio) (1.3.1)\n",
            "Requirement already satisfied: exceptiongroup in /usr/local/lib/python3.10/dist-packages (from anyio<5.0,>=3.0->gradio) (1.2.2)\n",
            "Collecting starlette<0.39.0,>=0.37.2 (from fastapi<0.113.0->gradio)\n",
            "  Downloading starlette-0.38.4-py3-none-any.whl.metadata (6.0 kB)\n",
            "Requirement already satisfied: certifi in /usr/local/lib/python3.10/dist-packages (from httpx>=0.24.1->gradio) (2024.8.30)\n",
            "Collecting httpcore==1.* (from httpx>=0.24.1->gradio)\n",
            "  Downloading httpcore-1.0.5-py3-none-any.whl.metadata (20 kB)\n",
            "Collecting h11<0.15,>=0.13 (from httpcore==1.*->httpx>=0.24.1->gradio)\n",
            "  Downloading h11-0.14.0-py3-none-any.whl.metadata (8.2 kB)\n",
            "Requirement already satisfied: filelock in /usr/local/lib/python3.10/dist-packages (from huggingface-hub>=0.19.3->gradio) (3.15.4)\n",
            "Requirement already satisfied: requests in /usr/local/lib/python3.10/dist-packages (from huggingface-hub>=0.19.3->gradio) (2.32.3)\n",
            "Requirement already satisfied: tqdm>=4.42.1 in /usr/local/lib/python3.10/dist-packages (from huggingface-hub>=0.19.3->gradio) (4.66.5)\n",
            "Requirement already satisfied: contourpy>=1.0.1 in /usr/local/lib/python3.10/dist-packages (from matplotlib~=3.0->gradio) (1.3.0)\n",
            "Requirement already satisfied: cycler>=0.10 in /usr/local/lib/python3.10/dist-packages (from matplotlib~=3.0->gradio) (0.12.1)\n",
            "Requirement already satisfied: fonttools>=4.22.0 in /usr/local/lib/python3.10/dist-packages (from matplotlib~=3.0->gradio) (4.53.1)\n",
            "Requirement already satisfied: kiwisolver>=1.0.1 in /usr/local/lib/python3.10/dist-packages (from matplotlib~=3.0->gradio) (1.4.5)\n",
            "Requirement already satisfied: pyparsing>=2.3.1 in /usr/local/lib/python3.10/dist-packages (from matplotlib~=3.0->gradio) (3.1.4)\n",
            "Requirement already satisfied: python-dateutil>=2.7 in /usr/local/lib/python3.10/dist-packages (from matplotlib~=3.0->gradio) (2.8.2)\n",
            "Requirement already satisfied: pytz>=2020.1 in /usr/local/lib/python3.10/dist-packages (from pandas<3.0,>=1.0->gradio) (2024.1)\n",
            "Requirement already satisfied: tzdata>=2022.1 in /usr/local/lib/python3.10/dist-packages (from pandas<3.0,>=1.0->gradio) (2024.1)\n",
            "Requirement already satisfied: annotated-types>=0.4.0 in /usr/local/lib/python3.10/dist-packages (from pydantic>=2.0->gradio) (0.7.0)\n",
            "Requirement already satisfied: pydantic-core==2.20.1 in /usr/local/lib/python3.10/dist-packages (from pydantic>=2.0->gradio) (2.20.1)\n",
            "Requirement already satisfied: click>=8.0.0 in /usr/local/lib/python3.10/dist-packages (from typer<1.0,>=0.12->gradio) (8.1.7)\n",
            "Requirement already satisfied: shellingham>=1.3.0 in /usr/local/lib/python3.10/dist-packages (from typer<1.0,>=0.12->gradio) (1.5.4)\n",
            "Requirement already satisfied: rich>=10.11.0 in /usr/local/lib/python3.10/dist-packages (from typer<1.0,>=0.12->gradio) (13.8.0)\n",
            "Requirement already satisfied: six>=1.5 in /usr/local/lib/python3.10/dist-packages (from python-dateutil>=2.7->matplotlib~=3.0->gradio) (1.16.0)\n",
            "Requirement already satisfied: markdown-it-py>=2.2.0 in /usr/local/lib/python3.10/dist-packages (from rich>=10.11.0->typer<1.0,>=0.12->gradio) (3.0.0)\n",
            "Requirement already satisfied: pygments<3.0.0,>=2.13.0 in /usr/local/lib/python3.10/dist-packages (from rich>=10.11.0->typer<1.0,>=0.12->gradio) (2.16.1)\n",
            "Requirement already satisfied: charset-normalizer<4,>=2 in /usr/local/lib/python3.10/dist-packages (from requests->huggingface-hub>=0.19.3->gradio) (3.3.2)\n",
            "Requirement already satisfied: mdurl~=0.1 in /usr/local/lib/python3.10/dist-packages (from markdown-it-py>=2.2.0->rich>=10.11.0->typer<1.0,>=0.12->gradio) (0.1.2)\n",
            "Downloading gradio-4.43.0-py3-none-any.whl (18.1 MB)\n",
            "\u001b[2K   \u001b[90m━━━━━━━━━━━━━━━━━━━━━━━━━━━━━━━━━━━━━━━━\u001b[0m \u001b[32m18.1/18.1 MB\u001b[0m \u001b[31m62.6 MB/s\u001b[0m eta \u001b[36m0:00:00\u001b[0m\n",
            "\u001b[?25hDownloading gradio_client-1.3.0-py3-none-any.whl (318 kB)\n",
            "\u001b[2K   \u001b[90m━━━━━━━━━━━━━━━━━━━━━━━━━━━━━━━━━━━━━━━━\u001b[0m \u001b[32m318.7/318.7 kB\u001b[0m \u001b[31m23.0 MB/s\u001b[0m eta \u001b[36m0:00:00\u001b[0m\n",
            "\u001b[?25hDownloading tomlkit-0.12.0-py3-none-any.whl (37 kB)\n",
            "Downloading aiofiles-23.2.1-py3-none-any.whl (15 kB)\n",
            "Downloading fastapi-0.112.4-py3-none-any.whl (93 kB)\n",
            "\u001b[2K   \u001b[90m━━━━━━━━━━━━━━━━━━━━━━━━━━━━━━━━━━━━━━━━\u001b[0m \u001b[32m93.9/93.9 kB\u001b[0m \u001b[31m7.8 MB/s\u001b[0m eta \u001b[36m0:00:00\u001b[0m\n",
            "\u001b[?25hDownloading httpx-0.27.2-py3-none-any.whl (76 kB)\n",
            "\u001b[2K   \u001b[90m━━━━━━━━━━━━━━━━━━━━━━━━━━━━━━━━━━━━━━━━\u001b[0m \u001b[32m76.4/76.4 kB\u001b[0m \u001b[31m6.0 MB/s\u001b[0m eta \u001b[36m0:00:00\u001b[0m\n",
            "\u001b[?25hDownloading httpcore-1.0.5-py3-none-any.whl (77 kB)\n",
            "\u001b[2K   \u001b[90m━━━━━━━━━━━━━━━━━━━━━━━━━━━━━━━━━━━━━━━━\u001b[0m \u001b[32m77.9/77.9 kB\u001b[0m \u001b[31m6.3 MB/s\u001b[0m eta \u001b[36m0:00:00\u001b[0m\n",
            "\u001b[?25hDownloading orjson-3.10.7-cp310-cp310-manylinux_2_17_x86_64.manylinux2014_x86_64.whl (141 kB)\n",
            "\u001b[2K   \u001b[90m━━━━━━━━━━━━━━━━━━━━━━━━━━━━━━━━━━━━━━━━\u001b[0m \u001b[32m141.9/141.9 kB\u001b[0m \u001b[31m9.9 MB/s\u001b[0m eta \u001b[36m0:00:00\u001b[0m\n",
            "\u001b[?25hDownloading python_multipart-0.0.9-py3-none-any.whl (22 kB)\n",
            "Downloading ruff-0.6.4-py3-none-manylinux_2_17_x86_64.manylinux2014_x86_64.whl (10.3 MB)\n",
            "\u001b[2K   \u001b[90m━━━━━━━━━━━━━━━━━━━━━━━━━━━━━━━━━━━━━━━━\u001b[0m \u001b[32m10.3/10.3 MB\u001b[0m \u001b[31m71.8 MB/s\u001b[0m eta \u001b[36m0:00:00\u001b[0m\n",
            "\u001b[?25hDownloading semantic_version-2.10.0-py2.py3-none-any.whl (15 kB)\n",
            "Downloading uvicorn-0.30.6-py3-none-any.whl (62 kB)\n",
            "\u001b[2K   \u001b[90m━━━━━━━━━━━━━━━━━━━━━━━━━━━━━━━━━━━━━━━━\u001b[0m \u001b[32m62.8/62.8 kB\u001b[0m \u001b[31m4.8 MB/s\u001b[0m eta \u001b[36m0:00:00\u001b[0m\n",
            "\u001b[?25hDownloading ffmpy-0.4.0-py3-none-any.whl (5.8 kB)\n",
            "Downloading pydub-0.25.1-py2.py3-none-any.whl (32 kB)\n",
            "Downloading h11-0.14.0-py3-none-any.whl (58 kB)\n",
            "\u001b[2K   \u001b[90m━━━━━━━━━━━━━━━━━━━━━━━━━━━━━━━━━━━━━━━━\u001b[0m \u001b[32m58.3/58.3 kB\u001b[0m \u001b[31m4.9 MB/s\u001b[0m eta \u001b[36m0:00:00\u001b[0m\n",
            "\u001b[?25hDownloading starlette-0.38.4-py3-none-any.whl (71 kB)\n",
            "\u001b[2K   \u001b[90m━━━━━━━━━━━━━━━━━━━━━━━━━━━━━━━━━━━━━━━━\u001b[0m \u001b[32m71.4/71.4 kB\u001b[0m \u001b[31m5.4 MB/s\u001b[0m eta \u001b[36m0:00:00\u001b[0m\n",
            "\u001b[?25hDownloading websockets-12.0-cp310-cp310-manylinux_2_5_x86_64.manylinux1_x86_64.manylinux_2_17_x86_64.manylinux2014_x86_64.whl (130 kB)\n",
            "\u001b[2K   \u001b[90m━━━━━━━━━━━━━━━━━━━━━━━━━━━━━━━━━━━━━━━━\u001b[0m \u001b[32m130.2/130.2 kB\u001b[0m \u001b[31m10.4 MB/s\u001b[0m eta \u001b[36m0:00:00\u001b[0m\n",
            "\u001b[?25hInstalling collected packages: pydub, websockets, tomlkit, semantic-version, ruff, python-multipart, orjson, h11, ffmpy, aiofiles, uvicorn, starlette, httpcore, httpx, fastapi, gradio-client, gradio\n",
            "  Attempting uninstall: tomlkit\n",
            "    Found existing installation: tomlkit 0.13.2\n",
            "    Uninstalling tomlkit-0.13.2:\n",
            "      Successfully uninstalled tomlkit-0.13.2\n",
            "Successfully installed aiofiles-23.2.1 fastapi-0.112.4 ffmpy-0.4.0 gradio-4.43.0 gradio-client-1.3.0 h11-0.14.0 httpcore-1.0.5 httpx-0.27.2 orjson-3.10.7 pydub-0.25.1 python-multipart-0.0.9 ruff-0.6.4 semantic-version-2.10.0 starlette-0.38.4 tomlkit-0.12.0 uvicorn-0.30.6 websockets-12.0\n"
          ]
        }
      ]
    },
    {
      "cell_type": "code",
      "source": [
        "import gradio as gr\n",
        "\n",
        "def predict_spam(text):\n",
        "    text_cleared = data_prep(text)  # Assuming data_prep is a function you've defined elsewhere\n",
        "    text_vectorized = vect.transform([text_cleared])  # Assuming vect is a pre-trained vectorizer\n",
        "    prediction = ml.predict(text_vectorized)[0]  # Assuming ml is your trained model\n",
        "    return \"Spam\" if prediction == \"spam\" else \"Ham\"\n",
        "\n",
        "iface = gr.Interface(\n",
        "    fn=predict_spam,\n",
        "    inputs=gr.Textbox(lines=5, label=\"Enter your text message here:\"),\n",
        "    outputs=\"text\",\n",
        "    title=\"Spam Detection App\",\n",
        "    description=\"Enter a message to predict whether it's spam or ham.\"\n",
        ")\n",
        "\n",
        "iface.launch()"
      ],
      "metadata": {
        "colab": {
          "base_uri": "https://localhost:8080/",
          "height": 646
        },
        "id": "wIDiGG65EMhC",
        "outputId": "79efe111-e014-4eaf-bfe4-c16d654dbb5c"
      },
      "execution_count": 44,
      "outputs": [
        {
          "output_type": "stream",
          "name": "stdout",
          "text": [
            "Setting queue=True in a Colab notebook requires sharing enabled. Setting `share=True` (you can turn this off by setting `share=False` in `launch()` explicitly).\n",
            "\n",
            "Colab notebook detected. To show errors in colab notebook, set debug=True in launch()\n",
            "Running on public URL: https://002b93221e6c41f519.gradio.live\n",
            "\n",
            "This share link expires in 72 hours. For free permanent hosting and GPU upgrades, run `gradio deploy` from Terminal to deploy to Spaces (https://huggingface.co/spaces)\n"
          ]
        },
        {
          "output_type": "display_data",
          "data": {
            "text/plain": [
              "<IPython.core.display.HTML object>"
            ],
            "text/html": [
              "<div><iframe src=\"https://002b93221e6c41f519.gradio.live\" width=\"100%\" height=\"500\" allow=\"autoplay; camera; microphone; clipboard-read; clipboard-write;\" frameborder=\"0\" allowfullscreen></iframe></div>"
            ]
          },
          "metadata": {}
        },
        {
          "output_type": "execute_result",
          "data": {
            "text/plain": []
          },
          "metadata": {},
          "execution_count": 44
        }
      ]
    },
    {
      "cell_type": "markdown",
      "source": [
        "RNN based model"
      ],
      "metadata": {
        "id": "pSDRlywIlm2l"
      }
    },
    {
      "cell_type": "code",
      "source": [
        "from keras.models import Sequential\n",
        "from keras.layers import Embedding, SimpleRNN, Dense,LSTM,Dropout\n",
        "from tensorflow.keras.preprocessing.text import Tokenizer\n",
        "from keras.preprocessing.sequence import pad_sequences"
      ],
      "metadata": {
        "id": "1Jrsy8ZnllBD"
      },
      "execution_count": 45,
      "outputs": []
    },
    {
      "cell_type": "markdown",
      "source": [
        "We are not using stopwords here"
      ],
      "metadata": {
        "id": "rUyKnxnrmrJA"
      }
    },
    {
      "cell_type": "markdown",
      "source": [
        "Tokenize Text"
      ],
      "metadata": {
        "id": "r-lPwUY_mQap"
      }
    },
    {
      "cell_type": "code",
      "source": [
        "#tokenize the messages\n",
        "max_words = 10000\n",
        "tokenizer = Tokenizer(num_words=max_words)\n",
        "tokenizer.fit_on_texts(data['text'])\n",
        "sequences = tokenizer.texts_to_sequences(data['text'])"
      ],
      "metadata": {
        "id": "xp79Sxz2mcdA"
      },
      "execution_count": 46,
      "outputs": []
    },
    {
      "cell_type": "code",
      "source": [
        "tokenizer.word_index            # takes dictionary, takes token as input and converts to numbers"
      ],
      "metadata": {
        "colab": {
          "base_uri": "https://localhost:8080/"
        },
        "collapsed": true,
        "id": "aKz7j-A7m5Q5",
        "outputId": "42d57a86-eacf-4ddd-c023-0b39cc2583fd"
      },
      "execution_count": 47,
      "outputs": [
        {
          "output_type": "execute_result",
          "data": {
            "text/plain": [
              "{'i': 1,\n",
              " 'to': 2,\n",
              " 'you': 3,\n",
              " 'a': 4,\n",
              " 'the': 5,\n",
              " 'u': 6,\n",
              " 'and': 7,\n",
              " 'in': 8,\n",
              " 'is': 9,\n",
              " 'me': 10,\n",
              " 'my': 11,\n",
              " 'for': 12,\n",
              " 'your': 13,\n",
              " 'it': 14,\n",
              " 'of': 15,\n",
              " 'call': 16,\n",
              " 'have': 17,\n",
              " 'on': 18,\n",
              " '2': 19,\n",
              " 'that': 20,\n",
              " 'now': 21,\n",
              " 'are': 22,\n",
              " 'so': 23,\n",
              " 'but': 24,\n",
              " 'not': 25,\n",
              " 'or': 26,\n",
              " 'do': 27,\n",
              " 'can': 28,\n",
              " 'at': 29,\n",
              " \"i'm\": 30,\n",
              " 'get': 31,\n",
              " 'be': 32,\n",
              " 'will': 33,\n",
              " 'if': 34,\n",
              " 'ur': 35,\n",
              " 'with': 36,\n",
              " 'just': 37,\n",
              " 'no': 38,\n",
              " 'we': 39,\n",
              " 'this': 40,\n",
              " 'gt': 41,\n",
              " '4': 42,\n",
              " 'lt': 43,\n",
              " 'up': 44,\n",
              " 'when': 45,\n",
              " 'ok': 46,\n",
              " 'free': 47,\n",
              " 'from': 48,\n",
              " 'how': 49,\n",
              " 'go': 50,\n",
              " 'all': 51,\n",
              " 'out': 52,\n",
              " 'what': 53,\n",
              " 'know': 54,\n",
              " 'like': 55,\n",
              " 'good': 56,\n",
              " 'then': 57,\n",
              " 'got': 58,\n",
              " 'was': 59,\n",
              " 'come': 60,\n",
              " 'its': 61,\n",
              " 'am': 62,\n",
              " 'time': 63,\n",
              " 'only': 64,\n",
              " 'day': 65,\n",
              " 'love': 66,\n",
              " 'there': 67,\n",
              " 'send': 68,\n",
              " 'he': 69,\n",
              " 'want': 70,\n",
              " 'text': 71,\n",
              " 'as': 72,\n",
              " 'txt': 73,\n",
              " 'one': 74,\n",
              " 'going': 75,\n",
              " 'by': 76,\n",
              " 'home': 77,\n",
              " \"i'll\": 78,\n",
              " 'need': 79,\n",
              " 'about': 80,\n",
              " 'r': 81,\n",
              " 'lor': 82,\n",
              " 'sorry': 83,\n",
              " 'stop': 84,\n",
              " 'still': 85,\n",
              " 'see': 86,\n",
              " 'back': 87,\n",
              " 'today': 88,\n",
              " 'n': 89,\n",
              " 'da': 90,\n",
              " 'our': 91,\n",
              " 'reply': 92,\n",
              " 'k': 93,\n",
              " 'dont': 94,\n",
              " 'she': 95,\n",
              " 'mobile': 96,\n",
              " 'take': 97,\n",
              " \"don't\": 98,\n",
              " 'tell': 99,\n",
              " 'hi': 100,\n",
              " 'new': 101,\n",
              " 'later': 102,\n",
              " 'her': 103,\n",
              " 'pls': 104,\n",
              " 'any': 105,\n",
              " 'please': 106,\n",
              " 'think': 107,\n",
              " 'been': 108,\n",
              " 'they': 109,\n",
              " 'phone': 110,\n",
              " 'here': 111,\n",
              " 'week': 112,\n",
              " 'dear': 113,\n",
              " 'did': 114,\n",
              " 'some': 115,\n",
              " 'ì': 116,\n",
              " '1': 117,\n",
              " 'well': 118,\n",
              " 'has': 119,\n",
              " 'much': 120,\n",
              " 'great': 121,\n",
              " 'night': 122,\n",
              " 'oh': 123,\n",
              " 'claim': 124,\n",
              " 'an': 125,\n",
              " 'hope': 126,\n",
              " 'hey': 127,\n",
              " 'msg': 128,\n",
              " 'who': 129,\n",
              " 'him': 130,\n",
              " 'where': 131,\n",
              " 'd': 132,\n",
              " 'more': 133,\n",
              " 'too': 134,\n",
              " 'happy': 135,\n",
              " 'had': 136,\n",
              " 'yes': 137,\n",
              " 'make': 138,\n",
              " 'way': 139,\n",
              " 'c': 140,\n",
              " 'www': 141,\n",
              " 'work': 142,\n",
              " 'give': 143,\n",
              " 'wat': 144,\n",
              " \"it's\": 145,\n",
              " 'number': 146,\n",
              " 'e': 147,\n",
              " 'message': 148,\n",
              " 'should': 149,\n",
              " 'prize': 150,\n",
              " 'tomorrow': 151,\n",
              " 'say': 152,\n",
              " 'right': 153,\n",
              " 'already': 154,\n",
              " 'after': 155,\n",
              " 'ask': 156,\n",
              " 'cash': 157,\n",
              " 'doing': 158,\n",
              " 'said': 159,\n",
              " '3': 160,\n",
              " 'yeah': 161,\n",
              " 'really': 162,\n",
              " 'amp': 163,\n",
              " 'why': 164,\n",
              " 'im': 165,\n",
              " 'meet': 166,\n",
              " 'them': 167,\n",
              " 'life': 168,\n",
              " 'find': 169,\n",
              " 'very': 170,\n",
              " 'morning': 171,\n",
              " 'babe': 172,\n",
              " 'last': 173,\n",
              " 'miss': 174,\n",
              " 'thanks': 175,\n",
              " 'would': 176,\n",
              " 'cos': 177,\n",
              " 'win': 178,\n",
              " 't': 179,\n",
              " 'lol': 180,\n",
              " 'also': 181,\n",
              " 'won': 182,\n",
              " 'let': 183,\n",
              " 'b': 184,\n",
              " 'anything': 185,\n",
              " 'every': 186,\n",
              " '150p': 187,\n",
              " 'com': 188,\n",
              " 'sure': 189,\n",
              " 'pick': 190,\n",
              " 'care': 191,\n",
              " 'urgent': 192,\n",
              " 'nokia': 193,\n",
              " 'sent': 194,\n",
              " 'keep': 195,\n",
              " 'over': 196,\n",
              " 'uk': 197,\n",
              " 'something': 198,\n",
              " 'contact': 199,\n",
              " 'us': 200,\n",
              " 'again': 201,\n",
              " 'buy': 202,\n",
              " 'min': 203,\n",
              " 'wait': 204,\n",
              " 'cant': 205,\n",
              " 'before': 206,\n",
              " \"i've\": 207,\n",
              " 'first': 208,\n",
              " 's': 209,\n",
              " '5': 210,\n",
              " 'even': 211,\n",
              " 'next': 212,\n",
              " 'feel': 213,\n",
              " 'were': 214,\n",
              " 'nice': 215,\n",
              " 'went': 216,\n",
              " 'thing': 217,\n",
              " 'around': 218,\n",
              " 'soon': 219,\n",
              " 'his': 220,\n",
              " 'which': 221,\n",
              " 'someone': 222,\n",
              " \"can't\": 223,\n",
              " 'could': 224,\n",
              " 'place': 225,\n",
              " 'money': 226,\n",
              " 'service': 227,\n",
              " 'off': 228,\n",
              " 'tone': 229,\n",
              " '50': 230,\n",
              " 'tonight': 231,\n",
              " 'late': 232,\n",
              " 'many': 233,\n",
              " 'per': 234,\n",
              " 'customer': 235,\n",
              " 'gonna': 236,\n",
              " 'chat': 237,\n",
              " 'ya': 238,\n",
              " 'sleep': 239,\n",
              " 'always': 240,\n",
              " 'leave': 241,\n",
              " 'co': 242,\n",
              " 'down': 243,\n",
              " 'sms': 244,\n",
              " 'dun': 245,\n",
              " 'friends': 246,\n",
              " 'v': 247,\n",
              " \"that's\": 248,\n",
              " 'gud': 249,\n",
              " 'other': 250,\n",
              " 'wan': 251,\n",
              " 'help': 252,\n",
              " 'x': 253,\n",
              " 'things': 254,\n",
              " 'told': 255,\n",
              " 'wish': 256,\n",
              " 'hello': 257,\n",
              " 'waiting': 258,\n",
              " '16': 259,\n",
              " 'ìï': 260,\n",
              " 'fine': 261,\n",
              " 'special': 262,\n",
              " '18': 263,\n",
              " \"you're\": 264,\n",
              " 'haha': 265,\n",
              " 'coming': 266,\n",
              " 'may': 267,\n",
              " 'name': 268,\n",
              " 'getting': 269,\n",
              " 'done': 270,\n",
              " 'year': 271,\n",
              " 'same': 272,\n",
              " 'guaranteed': 273,\n",
              " 'yet': 274,\n",
              " 'people': 275,\n",
              " 'thk': 276,\n",
              " 'use': 277,\n",
              " 'try': 278,\n",
              " 'friend': 279,\n",
              " 'mins': 280,\n",
              " 'heart': 281,\n",
              " 'thought': 282,\n",
              " '6': 283,\n",
              " 'holiday': 284,\n",
              " 'lunch': 285,\n",
              " 'live': 286,\n",
              " 'man': 287,\n",
              " 'best': 288,\n",
              " 'talk': 289,\n",
              " 'stuff': 290,\n",
              " 'class': 291,\n",
              " 'y': 292,\n",
              " 'smile': 293,\n",
              " \"didn't\": 294,\n",
              " 'draw': 295,\n",
              " 'few': 296,\n",
              " 'cs': 297,\n",
              " 'days': 298,\n",
              " '7': 299,\n",
              " 'being': 300,\n",
              " 'yup': 301,\n",
              " 'trying': 302,\n",
              " 'bit': 303,\n",
              " 'never': 304,\n",
              " 'meeting': 305,\n",
              " 'thats': 306,\n",
              " 'job': 307,\n",
              " 'better': 308,\n",
              " 'house': 309,\n",
              " 'line': 310,\n",
              " 'finish': 311,\n",
              " 'cool': 312,\n",
              " 'long': 313,\n",
              " 'ill': 314,\n",
              " 'ready': 315,\n",
              " 'person': 316,\n",
              " 'having': 317,\n",
              " 'car': 318,\n",
              " 'mind': 319,\n",
              " 'end': 320,\n",
              " 'enjoy': 321,\n",
              " 'å£1': 322,\n",
              " 'latest': 323,\n",
              " 'half': 324,\n",
              " 'play': 325,\n",
              " 'check': 326,\n",
              " 'real': 327,\n",
              " 'yo': 328,\n",
              " 'wk': 329,\n",
              " 'account': 330,\n",
              " 'because': 331,\n",
              " 'dat': 332,\n",
              " 'than': 333,\n",
              " 'chance': 334,\n",
              " 'god': 335,\n",
              " 'lar': 336,\n",
              " 'receive': 337,\n",
              " 'word': 338,\n",
              " 'camera': 339,\n",
              " 'eat': 340,\n",
              " 'awarded': 341,\n",
              " 'wanna': 342,\n",
              " 'nothing': 343,\n",
              " 'guess': 344,\n",
              " 'lot': 345,\n",
              " 'sir': 346,\n",
              " 'problem': 347,\n",
              " '1st': 348,\n",
              " 'world': 349,\n",
              " 'another': 350,\n",
              " 'liao': 351,\n",
              " 'big': 352,\n",
              " 'dinner': 353,\n",
              " 'month': 354,\n",
              " 'ah': 355,\n",
              " 'birthday': 356,\n",
              " 'shows': 357,\n",
              " 'guys': 358,\n",
              " 'start': 359,\n",
              " 'into': 360,\n",
              " 'shit': 361,\n",
              " 'sweet': 362,\n",
              " 'å£1000': 363,\n",
              " 'girl': 364,\n",
              " 'luv': 365,\n",
              " 'jus': 366,\n",
              " 'might': 367,\n",
              " 'box': 368,\n",
              " 'ever': 369,\n",
              " 'quite': 370,\n",
              " 'cost': 371,\n",
              " 'watching': 372,\n",
              " 'room': 373,\n",
              " '150ppm': 374,\n",
              " 'landline': 375,\n",
              " 'bt': 376,\n",
              " 'offer': 377,\n",
              " 'video': 378,\n",
              " 'early': 379,\n",
              " 'xxx': 380,\n",
              " 'speak': 381,\n",
              " 'once': 382,\n",
              " 'aight': 383,\n",
              " 'tv': 384,\n",
              " 'called': 385,\n",
              " 'watch': 386,\n",
              " 'probably': 387,\n",
              " 'rate': 388,\n",
              " 'apply': 389,\n",
              " 'wont': 390,\n",
              " 'remember': 391,\n",
              " 'does': 392,\n",
              " 'maybe': 393,\n",
              " 'hear': 394,\n",
              " 'pa': 395,\n",
              " 'bed': 396,\n",
              " 'forgot': 397,\n",
              " 'll': 398,\n",
              " 'boy': 399,\n",
              " 'po': 400,\n",
              " 'thanx': 401,\n",
              " 'plan': 402,\n",
              " 'shall': 403,\n",
              " 'two': 404,\n",
              " 'minutes': 405,\n",
              " 'sat': 406,\n",
              " 'actually': 407,\n",
              " 'den': 408,\n",
              " 'bad': 409,\n",
              " 'princess': 410,\n",
              " 'fun': 411,\n",
              " '9': 412,\n",
              " 'code': 413,\n",
              " 'pay': 414,\n",
              " 'left': 415,\n",
              " 'ringtone': 416,\n",
              " 'look': 417,\n",
              " 'weekend': 418,\n",
              " 'part': 419,\n",
              " 'between': 420,\n",
              " 'easy': 421,\n",
              " 'reach': 422,\n",
              " 'shopping': 423,\n",
              " 'baby': 424,\n",
              " 'dunno': 425,\n",
              " 'orange': 426,\n",
              " 'office': 427,\n",
              " 'kiss': 428,\n",
              " '2nd': 429,\n",
              " \"he's\": 430,\n",
              " 'dis': 431,\n",
              " '10': 432,\n",
              " 'little': 433,\n",
              " 'leh': 434,\n",
              " 'face': 435,\n",
              " 'didnt': 436,\n",
              " 'hour': 437,\n",
              " 'network': 438,\n",
              " 'selected': 439,\n",
              " 'enough': 440,\n",
              " '000': 441,\n",
              " 'thank': 442,\n",
              " 'bus': 443,\n",
              " \"how's\": 444,\n",
              " 'looking': 445,\n",
              " 'anyway': 446,\n",
              " 'award': 447,\n",
              " 'those': 448,\n",
              " 'm': 449,\n",
              " 'working': 450,\n",
              " 'everything': 451,\n",
              " 'made': 452,\n",
              " 'put': 453,\n",
              " 'wife': 454,\n",
              " 'most': 455,\n",
              " 'afternoon': 456,\n",
              " 'without': 457,\n",
              " 'missing': 458,\n",
              " 'tmr': 459,\n",
              " 'evening': 460,\n",
              " 'collect': 461,\n",
              " 'asked': 462,\n",
              " 'texts': 463,\n",
              " '8': 464,\n",
              " 'while': 465,\n",
              " 'fuck': 466,\n",
              " 'dad': 467,\n",
              " 'town': 468,\n",
              " 'until': 469,\n",
              " 'wif': 470,\n",
              " 'though': 471,\n",
              " \"there's\": 472,\n",
              " 'calls': 473,\n",
              " 'since': 474,\n",
              " 'came': 475,\n",
              " 'okay': 476,\n",
              " 'says': 477,\n",
              " 'must': 478,\n",
              " 'school': 479,\n",
              " 'join': 480,\n",
              " 'mail': 481,\n",
              " 'sexy': 482,\n",
              " 'xmas': 483,\n",
              " 'true': 484,\n",
              " 'details': 485,\n",
              " 'entry': 486,\n",
              " 'goes': 487,\n",
              " 'update': 488,\n",
              " 'wanted': 489,\n",
              " 'pain': 490,\n",
              " 'means': 491,\n",
              " 'abt': 492,\n",
              " 'able': 493,\n",
              " 'hav': 494,\n",
              " 'important': 495,\n",
              " 'g': 496,\n",
              " 'wake': 497,\n",
              " 'tones': 498,\n",
              " 'wot': 499,\n",
              " 'bring': 500,\n",
              " 'collection': 501,\n",
              " 'times': 502,\n",
              " 'messages': 503,\n",
              " 'missed': 504,\n",
              " 'mob': 505,\n",
              " 'show': 506,\n",
              " 'price': 507,\n",
              " 'juz': 508,\n",
              " 'years': 509,\n",
              " 'decimal': 510,\n",
              " 'plz': 511,\n",
              " 'de': 512,\n",
              " 'away': 513,\n",
              " 'gift': 514,\n",
              " 'plus': 515,\n",
              " 'valid': 516,\n",
              " 'å£100': 517,\n",
              " 'alright': 518,\n",
              " 'till': 519,\n",
              " 're': 520,\n",
              " 'saw': 521,\n",
              " 'yesterday': 522,\n",
              " 'hair': 523,\n",
              " 'wen': 524,\n",
              " 'havent': 525,\n",
              " 'else': 526,\n",
              " 'worry': 527,\n",
              " '500': 528,\n",
              " '10p': 529,\n",
              " 'music': 530,\n",
              " 'weekly': 531,\n",
              " 'attempt': 532,\n",
              " 'guy': 533,\n",
              " 'colour': 534,\n",
              " 'net': 535,\n",
              " 'words': 536,\n",
              " 'yours': 537,\n",
              " 'double': 538,\n",
              " 'run': 539,\n",
              " 'making': 540,\n",
              " 'food': 541,\n",
              " 'haf': 542,\n",
              " 'til': 543,\n",
              " 'id': 544,\n",
              " 'oso': 545,\n",
              " 'shop': 546,\n",
              " 'book': 547,\n",
              " 'dude': 548,\n",
              " 'stay': 549,\n",
              " 'bored': 550,\n",
              " 'online': 551,\n",
              " 'makes': 552,\n",
              " 'lei': 553,\n",
              " 'question': 554,\n",
              " 'national': 555,\n",
              " 'ard': 556,\n",
              " \"we're\": 557,\n",
              " \"won't\": 558,\n",
              " 'tried': 559,\n",
              " 'delivery': 560,\n",
              " 'yourself': 561,\n",
              " \"haven't\": 562,\n",
              " 'driving': 563,\n",
              " 'test': 564,\n",
              " 'address': 565,\n",
              " 'answer': 566,\n",
              " 'top': 567,\n",
              " 'coz': 568,\n",
              " \"what's\": 569,\n",
              " 'nite': 570,\n",
              " 'hot': 571,\n",
              " 'hurt': 572,\n",
              " 'friendship': 573,\n",
              " 'change': 574,\n",
              " 'feeling': 575,\n",
              " 'either': 576,\n",
              " 'these': 577,\n",
              " 'sch': 578,\n",
              " 'family': 579,\n",
              " 'goin': 580,\n",
              " 'hours': 581,\n",
              " 'date': 582,\n",
              " 'http': 583,\n",
              " 'bonus': 584,\n",
              " 'trip': 585,\n",
              " 'comes': 586,\n",
              " 'å£5000': 587,\n",
              " 'movie': 588,\n",
              " 'busy': 589,\n",
              " \"''\": 590,\n",
              " 'todays': 591,\n",
              " 'order': 592,\n",
              " 'believe': 593,\n",
              " 'both': 594,\n",
              " 'vouchers': 595,\n",
              " 'wid': 596,\n",
              " 'full': 597,\n",
              " 'calling': 598,\n",
              " 'tot': 599,\n",
              " 'beautiful': 600,\n",
              " 'sae': 601,\n",
              " 'lose': 602,\n",
              " 'game': 603,\n",
              " 'together': 604,\n",
              " 'wants': 605,\n",
              " '8007': 606,\n",
              " 'sad': 607,\n",
              " 'set': 608,\n",
              " 'smiling': 609,\n",
              " 'mean': 610,\n",
              " 'old': 611,\n",
              " 'points': 612,\n",
              " 'å£2000': 613,\n",
              " 'leaving': 614,\n",
              " 'story': 615,\n",
              " 'sleeping': 616,\n",
              " 'noe': 617,\n",
              " 'happen': 618,\n",
              " 'ring': 619,\n",
              " 'club': 620,\n",
              " 'charge': 621,\n",
              " 'games': 622,\n",
              " \"we'll\": 623,\n",
              " 'chikku': 624,\n",
              " 'huh': 625,\n",
              " 'eve': 626,\n",
              " 'å£500': 627,\n",
              " 'saying': 628,\n",
              " 'drive': 629,\n",
              " 'await': 630,\n",
              " 'dreams': 631,\n",
              " 'brother': 632,\n",
              " 'pounds': 633,\n",
              " 'news': 634,\n",
              " 'aft': 635,\n",
              " 'tomo': 636,\n",
              " 'congrats': 637,\n",
              " 'took': 638,\n",
              " 'finished': 639,\n",
              " 'started': 640,\n",
              " 'private': 641,\n",
              " 'gr8': 642,\n",
              " 'awesome': 643,\n",
              " 'minute': 644,\n",
              " 'walk': 645,\n",
              " '86688': 646,\n",
              " 'okie': 647,\n",
              " 'post': 648,\n",
              " 'row': 649,\n",
              " 'poly': 650,\n",
              " 'pm': 651,\n",
              " 'thinking': 652,\n",
              " 'pics': 653,\n",
              " 'email': 654,\n",
              " 'rite': 655,\n",
              " 'pic': 656,\n",
              " 'available': 657,\n",
              " 'final': 658,\n",
              " \"c's\": 659,\n",
              " 'tho': 660,\n",
              " 'forget': 661,\n",
              " 'second': 662,\n",
              " 'close': 663,\n",
              " 'cause': 664,\n",
              " 'services': 665,\n",
              " 'taking': 666,\n",
              " 'everyone': 667,\n",
              " 'wil': 668,\n",
              " 'angry': 669,\n",
              " '750': 670,\n",
              " 'unsubscribe': 671,\n",
              " 'lets': 672,\n",
              " 'drink': 673,\n",
              " 'head': 674,\n",
              " 'land': 675,\n",
              " 'gd': 676,\n",
              " 'neva': 677,\n",
              " 'pub': 678,\n",
              " \"she's\": 679,\n",
              " 'drop': 680,\n",
              " 'auction': 681,\n",
              " '11': 682,\n",
              " 'lesson': 683,\n",
              " 'lucky': 684,\n",
              " 'xx': 685,\n",
              " 'search': 686,\n",
              " '12hrs': 687,\n",
              " 'statement': 688,\n",
              " 'expires': 689,\n",
              " 'msgs': 690,\n",
              " 'open': 691,\n",
              " 'whats': 692,\n",
              " 'lots': 693,\n",
              " 'each': 694,\n",
              " 'smoke': 695,\n",
              " 'worth': 696,\n",
              " 'sis': 697,\n",
              " 'touch': 698,\n",
              " 'found': 699,\n",
              " 'break': 700,\n",
              " 'sounds': 701,\n",
              " 'company': 702,\n",
              " 'choose': 703,\n",
              " 'card': 704,\n",
              " 'w': 705,\n",
              " 'sister': 706,\n",
              " 'dating': 707,\n",
              " 'opt': 708,\n",
              " 'simple': 709,\n",
              " 'mine': 710,\n",
              " 'whatever': 711,\n",
              " 'voucher': 712,\n",
              " 'knw': 713,\n",
              " 'anyone': 714,\n",
              " 'don': 715,\n",
              " 'loving': 716,\n",
              " 'alone': 717,\n",
              " 'treat': 718,\n",
              " 'winner': 719,\n",
              " '100': 720,\n",
              " 'info': 721,\n",
              " 'pobox': 722,\n",
              " 'ha': 723,\n",
              " 'smth': 724,\n",
              " 'saturday': 725,\n",
              " 'decided': 726,\n",
              " '08000930705': 727,\n",
              " 'girls': 728,\n",
              " 'prob': 729,\n",
              " 'gone': 730,\n",
              " 'happened': 731,\n",
              " 'identifier': 732,\n",
              " 'nt': 733,\n",
              " 'type': 734,\n",
              " 'ltd': 735,\n",
              " 'hard': 736,\n",
              " 'frnd': 737,\n",
              " 'needs': 738,\n",
              " 'carlos': 739,\n",
              " 'boytoy': 740,\n",
              " 'college': 741,\n",
              " 'takes': 742,\n",
              " 'anytime': 743,\n",
              " 'far': 744,\n",
              " 'mobileupd8': 745,\n",
              " 'kind': 746,\n",
              " 'visit': 747,\n",
              " 'fast': 748,\n",
              " 'mum': 749,\n",
              " 'sun': 750,\n",
              " 'crazy': 751,\n",
              " 'wonderful': 752,\n",
              " \"doesn't\": 753,\n",
              " 'camcorder': 754,\n",
              " 'used': 755,\n",
              " 'hit': 756,\n",
              " 'operator': 757,\n",
              " 'friday': 758,\n",
              " 'quiz': 759,\n",
              " 'player': 760,\n",
              " 'parents': 761,\n",
              " 'hand': 762,\n",
              " 'content': 763,\n",
              " 'wit': 764,\n",
              " \"you've\": 765,\n",
              " 'finally': 766,\n",
              " 'darlin': 767,\n",
              " 'rs': 768,\n",
              " 'goodmorning': 769,\n",
              " 'oredi': 770,\n",
              " 'secret': 771,\n",
              " 'tel': 772,\n",
              " 'congratulations': 773,\n",
              " 'read': 774,\n",
              " 'light': 775,\n",
              " 'suite342': 776,\n",
              " '2lands': 777,\n",
              " '08000839402': 778,\n",
              " 'bout': 779,\n",
              " 'fucking': 780,\n",
              " 'nope': 781,\n",
              " 'outside': 782,\n",
              " 'fri': 783,\n",
              " 'å£3': 784,\n",
              " 'pretty': 785,\n",
              " 'sea': 786,\n",
              " 'o': 787,\n",
              " 'weeks': 788,\n",
              " '\\x89û': 789,\n",
              " 'lovely': 790,\n",
              " 'mates': 791,\n",
              " 'wrong': 792,\n",
              " 'chennai': 793,\n",
              " 'hows': 794,\n",
              " '30': 795,\n",
              " 'wkly': 796,\n",
              " 'freemsg': 797,\n",
              " \"'\": 798,\n",
              " 'sunday': 799,\n",
              " 'credit': 800,\n",
              " 'hungry': 801,\n",
              " 'seeing': 802,\n",
              " 'telling': 803,\n",
              " 'whole': 804,\n",
              " 'frnds': 805,\n",
              " 'hmm': 806,\n",
              " 'mu': 807,\n",
              " \"you'll\": 808,\n",
              " 'yr': 809,\n",
              " 'their': 810,\n",
              " 'ni8': 811,\n",
              " 'f': 812,\n",
              " 'fancy': 813,\n",
              " 'bank': 814,\n",
              " 'log': 815,\n",
              " 'course': 816,\n",
              " 'tc': 817,\n",
              " 'thinks': 818,\n",
              " 'case': 819,\n",
              " 'meant': 820,\n",
              " 'hold': 821,\n",
              " 'unlimited': 822,\n",
              " 'blue': 823,\n",
              " 'fone': 824,\n",
              " 'project': 825,\n",
              " 'reason': 826,\n",
              " 'å£250': 827,\n",
              " 'ten': 828,\n",
              " 'welcome': 829,\n",
              " 'cum': 830,\n",
              " 'frm': 831,\n",
              " 'savamob': 832,\n",
              " 'offers': 833,\n",
              " 'listen': 834,\n",
              " 'snow': 835,\n",
              " 'b4': 836,\n",
              " 'mate': 837,\n",
              " 'least': 838,\n",
              " 'earlier': 839,\n",
              " 'party': 840,\n",
              " 'point': 841,\n",
              " 'press': 842,\n",
              " 'valued': 843,\n",
              " 'almost': 844,\n",
              " 'etc': 845,\n",
              " 'cut': 846,\n",
              " 'hee': 847,\n",
              " 'download': 848,\n",
              " '0800': 849,\n",
              " 'mah': 850,\n",
              " 'felt': 851,\n",
              " 'caller': 852,\n",
              " '03': 853,\n",
              " 'numbers': 854,\n",
              " 'age': 855,\n",
              " 'tired': 856,\n",
              " 'hmmm': 857,\n",
              " 'mr': 858,\n",
              " 'mrng': 859,\n",
              " 'balance': 860,\n",
              " 'march': 861,\n",
              " 'side': 862,\n",
              " 'fr': 863,\n",
              " '87066': 864,\n",
              " 'dnt': 865,\n",
              " 'stupid': 866,\n",
              " 'bslvyl': 867,\n",
              " 'lost': 868,\n",
              " 'christmas': 869,\n",
              " 'reading': 870,\n",
              " 'txts': 871,\n",
              " 'ago': 872,\n",
              " 'currently': 873,\n",
              " 'motorola': 874,\n",
              " 'talking': 875,\n",
              " 'couple': 876,\n",
              " 'phones': 877,\n",
              " 'ass': 878,\n",
              " 'india': 879,\n",
              " 'park': 880,\n",
              " 'å£2': 881,\n",
              " 'within': 882,\n",
              " '2003': 883,\n",
              " '800': 884,\n",
              " 'un': 885,\n",
              " 'yar': 886,\n",
              " 'happiness': 887,\n",
              " 'area': 888,\n",
              " 'å£350': 889,\n",
              " 'sex': 890,\n",
              " 'mayb': 891,\n",
              " 'understand': 892,\n",
              " 'support': 893,\n",
              " 'na': 894,\n",
              " 'luck': 895,\n",
              " 'enter': 896,\n",
              " 'gas': 897,\n",
              " 'father': 898,\n",
              " 'comp': 899,\n",
              " \"i'd\": 900,\n",
              " 'mobiles': 901,\n",
              " '20': 902,\n",
              " 'eh': 903,\n",
              " 'charged': 904,\n",
              " 'confirm': 905,\n",
              " 'wow': 906,\n",
              " 'ac': 907,\n",
              " 'red': 908,\n",
              " 'correct': 909,\n",
              " 'pass': 910,\n",
              " 'song': 911,\n",
              " 'complimentary': 912,\n",
              " 'gotta': 913,\n",
              " 'computer': 914,\n",
              " 'mom': 915,\n",
              " 'askd': 916,\n",
              " 'invited': 917,\n",
              " 'uncle': 918,\n",
              " 'sending': 919,\n",
              " 'direct': 920,\n",
              " 'semester': 921,\n",
              " 'reveal': 922,\n",
              " 'laptop': 923,\n",
              " 'questions': 924,\n",
              " 'swing': 925,\n",
              " 'ends': 926,\n",
              " 'die': 927,\n",
              " 'via': 928,\n",
              " 'met': 929,\n",
              " 'st': 930,\n",
              " 'call2optout': 931,\n",
              " 'seen': 932,\n",
              " 'rental': 933,\n",
              " 'th': 934,\n",
              " 'supposed': 935,\n",
              " 'ipod': 936,\n",
              " 'redeemed': 937,\n",
              " '04': 938,\n",
              " 'through': 939,\n",
              " 'gym': 940,\n",
              " 'darren': 941,\n",
              " 'ans': 942,\n",
              " 'picking': 943,\n",
              " 'ugh': 944,\n",
              " 'extra': 945,\n",
              " 'knew': 946,\n",
              " 'heard': 947,\n",
              " 'information': 948,\n",
              " 'surprise': 949,\n",
              " 'grins': 950,\n",
              " 'gal': 951,\n",
              " 'difficult': 952,\n",
              " 'john': 953,\n",
              " \"wasn't\": 954,\n",
              " 'std': 955,\n",
              " 'usf': 956,\n",
              " 'reward': 957,\n",
              " '12': 958,\n",
              " 'wap': 959,\n",
              " 'eg': 960,\n",
              " 'comin': 961,\n",
              " 'abiola': 962,\n",
              " 'crave': 963,\n",
              " 'gets': 964,\n",
              " 'move': 965,\n",
              " 'checking': 966,\n",
              " 'rply': 967,\n",
              " 'loads': 968,\n",
              " 'shower': 969,\n",
              " \"isn't\": 970,\n",
              " 'entered': 971,\n",
              " 'match': 972,\n",
              " 'dogging': 973,\n",
              " 'txting': 974,\n",
              " 'lovable': 975,\n",
              " 'wine': 976,\n",
              " 'dream': 977,\n",
              " 'safe': 978,\n",
              " 'muz': 979,\n",
              " 'bath': 980,\n",
              " 'orchard': 981,\n",
              " 'kate': 982,\n",
              " 'exam': 983,\n",
              " 'bcoz': 984,\n",
              " 'own': 985,\n",
              " 'wana': 986,\n",
              " 'somebody': 987,\n",
              " 'rest': 988,\n",
              " 'plans': 989,\n",
              " 'small': 990,\n",
              " 'jay': 991,\n",
              " 'ex': 992,\n",
              " 'hg': 993,\n",
              " 'w1j6hl': 994,\n",
              " 'discount': 995,\n",
              " 'slow': 996,\n",
              " 'rock': 997,\n",
              " 'asking': 998,\n",
              " 'remove': 999,\n",
              " 'monday': 1000,\n",
              " ...}"
            ]
          },
          "metadata": {},
          "execution_count": 47
        }
      ]
    },
    {
      "cell_type": "code",
      "source": [
        "len(tokenizer.word_index)"
      ],
      "metadata": {
        "colab": {
          "base_uri": "https://localhost:8080/"
        },
        "id": "6PaEhurqnZGZ",
        "outputId": "84797d58-c5ea-4961-fdd9-bf274b1ee3b5"
      },
      "execution_count": 48,
      "outputs": [
        {
          "output_type": "execute_result",
          "data": {
            "text/plain": [
              "8920"
            ]
          },
          "metadata": {},
          "execution_count": 48
        }
      ]
    },
    {
      "cell_type": "code",
      "source": [
        "data['text'][0]"
      ],
      "metadata": {
        "colab": {
          "base_uri": "https://localhost:8080/",
          "height": 36
        },
        "id": "RkaH5og_oFN1",
        "outputId": "d757c5bf-9b2b-4cff-a90b-204585fcc327"
      },
      "execution_count": 49,
      "outputs": [
        {
          "output_type": "execute_result",
          "data": {
            "text/plain": [
              "'Go until jurong point, crazy.. Available only in bugis n great world la e buffet... Cine there got amore wat...'"
            ],
            "application/vnd.google.colaboratory.intrinsic+json": {
              "type": "string"
            }
          },
          "metadata": {},
          "execution_count": 49
        }
      ]
    },
    {
      "cell_type": "code",
      "source": [
        "len(data['text'][1])"
      ],
      "metadata": {
        "colab": {
          "base_uri": "https://localhost:8080/"
        },
        "id": "lFkYUL6bo4gM",
        "outputId": "26f4e7bb-5b43-44a4-da20-381ba75f7c02"
      },
      "execution_count": 50,
      "outputs": [
        {
          "output_type": "execute_result",
          "data": {
            "text/plain": [
              "29"
            ]
          },
          "metadata": {},
          "execution_count": 50
        }
      ]
    },
    {
      "cell_type": "markdown",
      "source": [
        "Padding"
      ],
      "metadata": {
        "id": "bo-6U8hgpmld"
      }
    },
    {
      "cell_type": "code",
      "source": [
        "max_length = 100\n",
        "x=pad_sequences(sequences, maxlen=max_length)"
      ],
      "metadata": {
        "id": "EsazoraipnuE"
      },
      "execution_count": 51,
      "outputs": []
    },
    {
      "cell_type": "code",
      "source": [
        "x.shape"
      ],
      "metadata": {
        "colab": {
          "base_uri": "https://localhost:8080/"
        },
        "id": "tpa9XuQaqGau",
        "outputId": "8d3ee78e-1fdf-4567-a201-7e0d3eb0a639"
      },
      "execution_count": 52,
      "outputs": [
        {
          "output_type": "execute_result",
          "data": {
            "text/plain": [
              "(5572, 100)"
            ]
          },
          "metadata": {},
          "execution_count": 52
        }
      ]
    },
    {
      "cell_type": "code",
      "source": [
        "x[1]"
      ],
      "metadata": {
        "colab": {
          "base_uri": "https://localhost:8080/"
        },
        "id": "t3OS8BI-qKA8",
        "outputId": "9bd9d07e-9dba-4503-8321-4f983cf63512"
      },
      "execution_count": 53,
      "outputs": [
        {
          "output_type": "execute_result",
          "data": {
            "text/plain": [
              "array([   0,    0,    0,    0,    0,    0,    0,    0,    0,    0,    0,\n",
              "          0,    0,    0,    0,    0,    0,    0,    0,    0,    0,    0,\n",
              "          0,    0,    0,    0,    0,    0,    0,    0,    0,    0,    0,\n",
              "          0,    0,    0,    0,    0,    0,    0,    0,    0,    0,    0,\n",
              "          0,    0,    0,    0,    0,    0,    0,    0,    0,    0,    0,\n",
              "          0,    0,    0,    0,    0,    0,    0,    0,    0,    0,    0,\n",
              "          0,    0,    0,    0,    0,    0,    0,    0,    0,    0,    0,\n",
              "          0,    0,    0,    0,    0,    0,    0,    0,    0,    0,    0,\n",
              "          0,    0,    0,    0,    0,    0,   46,  336, 1495,  470,    6,\n",
              "       1929], dtype=int32)"
            ]
          },
          "metadata": {},
          "execution_count": 53
        }
      ]
    },
    {
      "cell_type": "markdown",
      "source": [
        "split the data to train and test"
      ],
      "metadata": {
        "id": "osd1nBU8qdcr"
      }
    },
    {
      "cell_type": "code",
      "source": [
        "x_train,x_test,y_train,y_test=train_test_split(x,y,test_size=0.2,random_state=123)"
      ],
      "metadata": {
        "id": "ervnpZLUqc0R"
      },
      "execution_count": 54,
      "outputs": []
    },
    {
      "cell_type": "code",
      "source": [
        "print(x_train.shape)\n",
        "print(x_test.shape)\n",
        "print(y_train.shape)\n",
        "print(y_test.shape)"
      ],
      "metadata": {
        "colab": {
          "base_uri": "https://localhost:8080/"
        },
        "id": "LJiA4Nl7qwGK",
        "outputId": "8b518fc3-fda5-4b6d-d6a4-e68fe564a8d0"
      },
      "execution_count": 55,
      "outputs": [
        {
          "output_type": "stream",
          "name": "stdout",
          "text": [
            "(4457, 100)\n",
            "(1115, 100)\n",
            "(4457,)\n",
            "(1115,)\n"
          ]
        }
      ]
    },
    {
      "cell_type": "code",
      "source": [
        "from keras.utils import to_categorical\n",
        "#convert labels to numerical values (0 for ham,1 for spam)\n",
        "y_train = [1 if labels == 'spam' else 0 for labels in y_train]\n",
        "y_test = [1 if labels == 'spam' else 0 for labels in y_test]\n",
        "y_train= to_categorical(y_train)\n",
        "y_test= to_categorical(y_test)"
      ],
      "metadata": {
        "id": "JCTidNsZrZZj"
      },
      "execution_count": 57,
      "outputs": []
    },
    {
      "cell_type": "markdown",
      "source": [
        "model the data"
      ],
      "metadata": {
        "id": "5-eSkyTDsYrC"
      }
    },
    {
      "cell_type": "code",
      "source": [
        "x_train.shape"
      ],
      "metadata": {
        "colab": {
          "base_uri": "https://localhost:8080/"
        },
        "id": "VPG1G3y31huN",
        "outputId": "baa36ce6-281e-48a4-d364-65d6676a5ce1"
      },
      "execution_count": 60,
      "outputs": [
        {
          "output_type": "execute_result",
          "data": {
            "text/plain": [
              "(4457, 100)"
            ]
          },
          "metadata": {},
          "execution_count": 60
        }
      ]
    },
    {
      "cell_type": "code",
      "source": [
        "y_train.shape"
      ],
      "metadata": {
        "colab": {
          "base_uri": "https://localhost:8080/"
        },
        "id": "8Z0DAUF51jkz",
        "outputId": "35355a23-8302-4a77-a3b6-0e2e89d2afab"
      },
      "execution_count": 61,
      "outputs": [
        {
          "output_type": "execute_result",
          "data": {
            "text/plain": [
              "(4457, 1)"
            ]
          },
          "metadata": {},
          "execution_count": 61
        }
      ]
    },
    {
      "cell_type": "code",
      "source": [
        "model=Sequential()\n",
        "model.add(Embedding(input_dim=max_words,output_dim=100,input_length=100))        #8970 means converts to 100  ,input length 100 bcz itll take 100 input tokens\n",
        "model.add(SimpleRNN(units=64))           #64 Rnn cells\n",
        "model.add(Dense(units=1,activation='sigmoid'))    #2class problems  #2 units because whether its ham or spam\n",
        "\n",
        "# Compile the model before calling fit\n",
        "model.compile(optimizer='adam',loss='binary_crossentropy',metrics=['accuracy'])\n",
        "\n",
        "model.fit(x_train,y_train, epochs=10, batch_size=32, validation_data=(x_test, y_test))"
      ],
      "metadata": {
        "colab": {
          "base_uri": "https://localhost:8080/"
        },
        "id": "RNMR0NbmN0-a",
        "outputId": "52070362-cfee-4f47-da63-8620432d0684"
      },
      "execution_count": 66,
      "outputs": [
        {
          "output_type": "stream",
          "name": "stdout",
          "text": [
            "Epoch 1/10\n"
          ]
        },
        {
          "output_type": "stream",
          "name": "stderr",
          "text": [
            "/usr/local/lib/python3.10/dist-packages/keras/src/layers/core/embedding.py:90: UserWarning: Argument `input_length` is deprecated. Just remove it.\n",
            "  warnings.warn(\n"
          ]
        },
        {
          "output_type": "stream",
          "name": "stdout",
          "text": [
            "\u001b[1m140/140\u001b[0m \u001b[32m━━━━━━━━━━━━━━━━━━━━\u001b[0m\u001b[37m\u001b[0m \u001b[1m9s\u001b[0m 40ms/step - accuracy: 0.9863 - loss: 0.0985 - val_accuracy: 1.0000 - val_loss: 0.0012\n",
            "Epoch 2/10\n",
            "\u001b[1m140/140\u001b[0m \u001b[32m━━━━━━━━━━━━━━━━━━━━\u001b[0m\u001b[37m\u001b[0m \u001b[1m11s\u001b[0m 76ms/step - accuracy: 1.0000 - loss: 9.1120e-04 - val_accuracy: 1.0000 - val_loss: 4.8290e-04\n",
            "Epoch 3/10\n",
            "\u001b[1m140/140\u001b[0m \u001b[32m━━━━━━━━━━━━━━━━━━━━\u001b[0m\u001b[37m\u001b[0m \u001b[1m15s\u001b[0m 38ms/step - accuracy: 1.0000 - loss: 4.0875e-04 - val_accuracy: 1.0000 - val_loss: 2.7430e-04\n",
            "Epoch 4/10\n",
            "\u001b[1m140/140\u001b[0m \u001b[32m━━━━━━━━━━━━━━━━━━━━\u001b[0m\u001b[37m\u001b[0m \u001b[1m11s\u001b[0m 79ms/step - accuracy: 1.0000 - loss: 2.4136e-04 - val_accuracy: 1.0000 - val_loss: 1.8048e-04\n",
            "Epoch 5/10\n",
            "\u001b[1m140/140\u001b[0m \u001b[32m━━━━━━━━━━━━━━━━━━━━\u001b[0m\u001b[37m\u001b[0m \u001b[1m15s\u001b[0m 37ms/step - accuracy: 1.0000 - loss: 1.6239e-04 - val_accuracy: 1.0000 - val_loss: 1.2917e-04\n",
            "Epoch 6/10\n",
            "\u001b[1m140/140\u001b[0m \u001b[32m━━━━━━━━━━━━━━━━━━━━\u001b[0m\u001b[37m\u001b[0m \u001b[1m5s\u001b[0m 37ms/step - accuracy: 1.0000 - loss: 1.1781e-04 - val_accuracy: 1.0000 - val_loss: 9.7599e-05\n",
            "Epoch 7/10\n",
            "\u001b[1m140/140\u001b[0m \u001b[32m━━━━━━━━━━━━━━━━━━━━\u001b[0m\u001b[37m\u001b[0m \u001b[1m5s\u001b[0m 38ms/step - accuracy: 1.0000 - loss: 8.9805e-05 - val_accuracy: 1.0000 - val_loss: 7.6583e-05\n",
            "Epoch 8/10\n",
            "\u001b[1m140/140\u001b[0m \u001b[32m━━━━━━━━━━━━━━━━━━━━\u001b[0m\u001b[37m\u001b[0m \u001b[1m10s\u001b[0m 37ms/step - accuracy: 1.0000 - loss: 7.0978e-05 - val_accuracy: 1.0000 - val_loss: 6.1780e-05\n",
            "Epoch 9/10\n",
            "\u001b[1m140/140\u001b[0m \u001b[32m━━━━━━━━━━━━━━━━━━━━\u001b[0m\u001b[37m\u001b[0m \u001b[1m10s\u001b[0m 37ms/step - accuracy: 1.0000 - loss: 5.7584e-05 - val_accuracy: 1.0000 - val_loss: 5.0907e-05\n",
            "Epoch 10/10\n",
            "\u001b[1m140/140\u001b[0m \u001b[32m━━━━━━━━━━━━━━━━━━━━\u001b[0m\u001b[37m\u001b[0m \u001b[1m5s\u001b[0m 37ms/step - accuracy: 1.0000 - loss: 4.7630e-05 - val_accuracy: 1.0000 - val_loss: 4.2655e-05\n"
          ]
        },
        {
          "output_type": "execute_result",
          "data": {
            "text/plain": [
              "<keras.src.callbacks.history.History at 0x7e9a65249750>"
            ]
          },
          "metadata": {},
          "execution_count": 66
        }
      ]
    },
    {
      "cell_type": "markdown",
      "source": [
        "confusion matrix , app"
      ],
      "metadata": {
        "id": "dPLurMJwuW6a"
      }
    },
    {
      "cell_type": "code",
      "source": [
        "def model_eval(actual,predicted):\n",
        "  conf_matrix=confusion_matrix(actual,predicted)\n",
        "  clas_rep=classification_report(actual,predicted)\n",
        "  acc_score=accuracy_score(actual,predicted)\n",
        "  print(\"The accuracy of the model is:\",round(acc_score,2))\n",
        "  print(conf_matrix)\n",
        "  print(clas_rep)"
      ],
      "metadata": {
        "id": "Su2YrrqWvXly"
      },
      "execution_count": 67,
      "outputs": []
    },
    {
      "cell_type": "code",
      "source": [
        "from keras.layers import SimpleRNN"
      ],
      "metadata": {
        "id": "ypkPboEuvwfN"
      },
      "execution_count": 68,
      "outputs": []
    },
    {
      "cell_type": "code",
      "source": [
        "y_train=np.argmax(y_train,axis=1)\n",
        "y_test=np.argmax(y_test,axis=1)"
      ],
      "metadata": {
        "id": "jvEt_cbovkJO"
      },
      "execution_count": 69,
      "outputs": []
    },
    {
      "cell_type": "code",
      "source": [
        "y_hat_train_rnn=np.argmax(model.predict(x_train),axis=1)\n",
        "y_hat_test_rnn=np.argmax(model.predict(x_test),axis=1)"
      ],
      "metadata": {
        "colab": {
          "base_uri": "https://localhost:8080/"
        },
        "id": "Bg3kV18zz-fA",
        "outputId": "e273e597-1cf2-4de8-ebae-2f46ef2a097c"
      },
      "execution_count": 70,
      "outputs": [
        {
          "output_type": "stream",
          "name": "stdout",
          "text": [
            "\u001b[1m140/140\u001b[0m \u001b[32m━━━━━━━━━━━━━━━━━━━━\u001b[0m\u001b[37m\u001b[0m \u001b[1m2s\u001b[0m 10ms/step\n",
            "\u001b[1m35/35\u001b[0m \u001b[32m━━━━━━━━━━━━━━━━━━━━\u001b[0m\u001b[37m\u001b[0m \u001b[1m0s\u001b[0m 9ms/step\n"
          ]
        }
      ]
    },
    {
      "cell_type": "code",
      "source": [
        "y_train"
      ],
      "metadata": {
        "colab": {
          "base_uri": "https://localhost:8080/"
        },
        "id": "3UExxI7V0WTN",
        "outputId": "dbc71131-5059-4a0a-a8ba-d85b18ba93c6"
      },
      "execution_count": 71,
      "outputs": [
        {
          "output_type": "execute_result",
          "data": {
            "text/plain": [
              "array([0, 0, 0, ..., 0, 0, 0])"
            ]
          },
          "metadata": {},
          "execution_count": 71
        }
      ]
    },
    {
      "cell_type": "code",
      "source": [
        "y_hat_train_rnn"
      ],
      "metadata": {
        "colab": {
          "base_uri": "https://localhost:8080/"
        },
        "id": "028M6ZM_1M3G",
        "outputId": "46cb7f70-3878-43eb-f83c-71270071aa8a"
      },
      "execution_count": 72,
      "outputs": [
        {
          "output_type": "execute_result",
          "data": {
            "text/plain": [
              "array([0, 0, 0, ..., 0, 0, 0])"
            ]
          },
          "metadata": {},
          "execution_count": 72
        }
      ]
    },
    {
      "cell_type": "code",
      "source": [
        "model_eval(y_train,y_hat_train_rnn)"
      ],
      "metadata": {
        "colab": {
          "base_uri": "https://localhost:8080/"
        },
        "id": "NRfm1_V7vgt-",
        "outputId": "b9990486-8158-422f-9044-28617d0f3f5c"
      },
      "execution_count": 73,
      "outputs": [
        {
          "output_type": "stream",
          "name": "stdout",
          "text": [
            "The accuracy of the model is: 1.0\n",
            "[[4457]]\n",
            "              precision    recall  f1-score   support\n",
            "\n",
            "           0       1.00      1.00      1.00      4457\n",
            "\n",
            "    accuracy                           1.00      4457\n",
            "   macro avg       1.00      1.00      1.00      4457\n",
            "weighted avg       1.00      1.00      1.00      4457\n",
            "\n"
          ]
        }
      ]
    },
    {
      "cell_type": "code",
      "source": [
        "model_eval(y_test,y_hat_test_rnn)"
      ],
      "metadata": {
        "colab": {
          "base_uri": "https://localhost:8080/"
        },
        "id": "4_DqnQ6R7LqL",
        "outputId": "12f4bb6d-3aec-48cc-9af8-9fdc34e216a0"
      },
      "execution_count": 74,
      "outputs": [
        {
          "output_type": "stream",
          "name": "stdout",
          "text": [
            "The accuracy of the model is: 1.0\n",
            "[[1115]]\n",
            "              precision    recall  f1-score   support\n",
            "\n",
            "           0       1.00      1.00      1.00      1115\n",
            "\n",
            "    accuracy                           1.00      1115\n",
            "   macro avg       1.00      1.00      1.00      1115\n",
            "weighted avg       1.00      1.00      1.00      1115\n",
            "\n"
          ]
        }
      ]
    },
    {
      "cell_type": "code",
      "source": [
        "# prompt: create an app using rnn to get text as input to get spam or ham as output\n",
        "\n",
        "def predict_spam_rnn(text):\n",
        "  text_seq = tokenizer.texts_to_sequences([text])\n",
        "  text_pad = pad_sequences(text_seq, maxlen=max_length)\n",
        "  prediction = model.predict(text_pad)\n",
        "  return \"Spam\" if np.argmax(prediction) == 1 else \"Ham\"\n",
        "\n",
        "iface = gr.Interface(\n",
        "    fn=predict_spam_rnn,\n",
        "    inputs=gr.Textbox(lines=5, label=\"Enter your text message here:\"),\n",
        "    outputs=\"text\",\n",
        "    title=\"Spam Detection App\",\n",
        "    description=\"Enter a message to predict whether it's spam or ham.\"\n",
        ")\n",
        "\n",
        "iface.launch()\n"
      ],
      "metadata": {
        "colab": {
          "base_uri": "https://localhost:8080/",
          "height": 646
        },
        "id": "SpRhT0g_99r5",
        "outputId": "6f699d82-8a68-45c9-dc3d-3963297bf4e6"
      },
      "execution_count": 75,
      "outputs": [
        {
          "output_type": "stream",
          "name": "stdout",
          "text": [
            "Setting queue=True in a Colab notebook requires sharing enabled. Setting `share=True` (you can turn this off by setting `share=False` in `launch()` explicitly).\n",
            "\n",
            "Colab notebook detected. To show errors in colab notebook, set debug=True in launch()\n",
            "Running on public URL: https://74725b8705f7013b06.gradio.live\n",
            "\n",
            "This share link expires in 72 hours. For free permanent hosting and GPU upgrades, run `gradio deploy` from Terminal to deploy to Spaces (https://huggingface.co/spaces)\n"
          ]
        },
        {
          "output_type": "display_data",
          "data": {
            "text/plain": [
              "<IPython.core.display.HTML object>"
            ],
            "text/html": [
              "<div><iframe src=\"https://74725b8705f7013b06.gradio.live\" width=\"100%\" height=\"500\" allow=\"autoplay; camera; microphone; clipboard-read; clipboard-write;\" frameborder=\"0\" allowfullscreen></iframe></div>"
            ]
          },
          "metadata": {}
        },
        {
          "output_type": "execute_result",
          "data": {
            "text/plain": []
          },
          "metadata": {},
          "execution_count": 75
        }
      ]
    }
  ],
  "metadata": {
    "colab": {
      "provenance": []
    },
    "kernelspec": {
      "display_name": "Python 3",
      "name": "python3"
    },
    "language_info": {
      "name": "python"
    }
  },
  "nbformat": 4,
  "nbformat_minor": 0
}